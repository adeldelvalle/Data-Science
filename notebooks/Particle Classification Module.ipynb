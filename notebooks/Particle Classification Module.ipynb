{
 "cells": [
  {
   "cell_type": "markdown",
   "metadata": {
    "toc": true
   },
   "source": [
    "<h1>Table of Contents<span class=\"tocSkip\"></span></h1>\n",
    "<div class=\"toc\"><ul class=\"toc-item\"><li><span><a href=\"#Classification-Machine-Learning-Module:-Particles\" data-toc-modified-id=\"Classification-Machine-Learning-Module:-Particles-1\"><span class=\"toc-item-num\">1&nbsp;&nbsp;</span>Classification Machine Learning Module: Particles</a></span><ul class=\"toc-item\"><li><ul class=\"toc-item\"><li><span><a href=\"#Imports\" data-toc-modified-id=\"Imports-1.0.1\"><span class=\"toc-item-num\">1.0.1&nbsp;&nbsp;</span>Imports</a></span></li></ul></li></ul></li><li><span><a href=\"#Data-Exploratory-Analysis\" data-toc-modified-id=\"Data-Exploratory-Analysis-2\"><span class=\"toc-item-num\">2&nbsp;&nbsp;</span>Data Exploratory Analysis</a></span><ul class=\"toc-item\"><li><span><a href=\"#Feature-Selection\" data-toc-modified-id=\"Feature-Selection-2.1\"><span class=\"toc-item-num\">2.1&nbsp;&nbsp;</span>Feature Selection</a></span></li></ul></li><li><span><a href=\"#Analysis/Modeling\" data-toc-modified-id=\"Analysis/Modeling-3\"><span class=\"toc-item-num\">3&nbsp;&nbsp;</span>Analysis/Modeling</a></span><ul class=\"toc-item\"><li><span><a href=\"#XGBoost\" data-toc-modified-id=\"XGBoost-3.1\"><span class=\"toc-item-num\">3.1&nbsp;&nbsp;</span>XGBoost</a></span></li><li><span><a href=\"#Random-Forest\" data-toc-modified-id=\"Random-Forest-3.2\"><span class=\"toc-item-num\">3.2&nbsp;&nbsp;</span>Random Forest</a></span></li></ul></li><li><span><a href=\"#Results\" data-toc-modified-id=\"Results-4\"><span class=\"toc-item-num\">4&nbsp;&nbsp;</span>Results</a></span></li><li><span><a href=\"#Conclusions-and-Next-Steps\" data-toc-modified-id=\"Conclusions-and-Next-Steps-5\"><span class=\"toc-item-num\">5&nbsp;&nbsp;</span>Conclusions and Next Steps</a></span></li></ul></div>"
   ]
  },
  {
   "cell_type": "markdown",
   "metadata": {},
   "source": [
    "# Classification Machine Learning Module: Particles\n",
    "\n",
    "The purpose of this notebook is to teach CMS students and high school teachers interested in the field of Machine Learning. CMS students are doing vast research on physics where Machine Learning can help them to find interesting insights. "
   ]
  },
  {
   "cell_type": "markdown",
   "metadata": {},
   "source": [
    "### Imports\n",
    "Import libraries and write settings here."
   ]
  },
  {
   "cell_type": "code",
   "execution_count": 6,
   "metadata": {},
   "outputs": [],
   "source": [
    "# Data manipulation\n",
    "import pandas as pd\n",
    "import numpy as np\n",
    "# Options for pandas\n",
    "pd.options.display.max_columns = 50\n",
    "pd.options.display.max_rows = 30\n",
    "# Display all cell outputs\n",
    "from IPython.core.interactiveshell import InteractiveShell\n",
    "InteractiveShell.ast_node_interactivity = 'all'\n",
    "from IPython import get_ipython\n",
    "import matplotlib.pyplot as plt\n",
    "import seaborn as sns\n",
    "ipython = get_ipython()\n",
    "# autoreload extension\n",
    "if 'autoreload' not in ipython.extension_manager.loaded:\n",
    "    %load_ext autoreload\n",
    "%autoreload 2\n"
   ]
  },
  {
   "cell_type": "markdown",
   "metadata": {},
   "source": [
    "# Data Exploratory Analysis "
   ]
  },
  {
   "cell_type": "code",
   "execution_count": 4,
   "metadata": {},
   "outputs": [
    {
     "data": {
      "text/html": [
       "<div>\n",
       "<style scoped>\n",
       "    .dataframe tbody tr th:only-of-type {\n",
       "        vertical-align: middle;\n",
       "    }\n",
       "\n",
       "    .dataframe tbody tr th {\n",
       "        vertical-align: top;\n",
       "    }\n",
       "\n",
       "    .dataframe thead th {\n",
       "        text-align: right;\n",
       "    }\n",
       "</style>\n",
       "<table border=\"1\" class=\"dataframe\">\n",
       "  <thead>\n",
       "    <tr style=\"text-align: right;\">\n",
       "      <th></th>\n",
       "      <th>id</th>\n",
       "      <th>p</th>\n",
       "      <th>theta</th>\n",
       "      <th>beta</th>\n",
       "      <th>nphe</th>\n",
       "      <th>ein</th>\n",
       "      <th>eout</th>\n",
       "    </tr>\n",
       "  </thead>\n",
       "  <tbody>\n",
       "    <tr>\n",
       "      <th>0</th>\n",
       "      <td>211</td>\n",
       "      <td>0.780041</td>\n",
       "      <td>1.081480</td>\n",
       "      <td>0.989962</td>\n",
       "      <td>0</td>\n",
       "      <td>0.000000</td>\n",
       "      <td>0.000000</td>\n",
       "    </tr>\n",
       "    <tr>\n",
       "      <th>1</th>\n",
       "      <td>211</td>\n",
       "      <td>0.260929</td>\n",
       "      <td>0.778892</td>\n",
       "      <td>0.902450</td>\n",
       "      <td>0</td>\n",
       "      <td>0.000000</td>\n",
       "      <td>0.000000</td>\n",
       "    </tr>\n",
       "    <tr>\n",
       "      <th>2</th>\n",
       "      <td>2212</td>\n",
       "      <td>0.773022</td>\n",
       "      <td>0.185953</td>\n",
       "      <td>0.642428</td>\n",
       "      <td>4</td>\n",
       "      <td>0.101900</td>\n",
       "      <td>0.000000</td>\n",
       "    </tr>\n",
       "    <tr>\n",
       "      <th>3</th>\n",
       "      <td>211</td>\n",
       "      <td>0.476997</td>\n",
       "      <td>0.445561</td>\n",
       "      <td>0.951471</td>\n",
       "      <td>0</td>\n",
       "      <td>0.000000</td>\n",
       "      <td>0.000000</td>\n",
       "    </tr>\n",
       "    <tr>\n",
       "      <th>4</th>\n",
       "      <td>2212</td>\n",
       "      <td>2.123290</td>\n",
       "      <td>0.337332</td>\n",
       "      <td>0.908652</td>\n",
       "      <td>0</td>\n",
       "      <td>0.034379</td>\n",
       "      <td>0.049256</td>\n",
       "    </tr>\n",
       "  </tbody>\n",
       "</table>\n",
       "</div>"
      ],
      "text/plain": [
       "     id         p     theta      beta  nphe       ein      eout\n",
       "0   211  0.780041  1.081480  0.989962     0  0.000000  0.000000\n",
       "1   211  0.260929  0.778892  0.902450     0  0.000000  0.000000\n",
       "2  2212  0.773022  0.185953  0.642428     4  0.101900  0.000000\n",
       "3   211  0.476997  0.445561  0.951471     0  0.000000  0.000000\n",
       "4  2212  2.123290  0.337332  0.908652     0  0.034379  0.049256"
      ]
     },
     "execution_count": 4,
     "metadata": {},
     "output_type": "execute_result"
    }
   ],
   "source": [
    "data = pd.read_csv(\"pid-5M.csv\")\n",
    "data.head()"
   ]
  },
  {
   "cell_type": "markdown",
   "metadata": {},
   "source": [
    "* id = Particle ID\n",
    "    * -11 = positron\n",
    "    * 211 = pion\n",
    "    * 321 = kaon\n",
    "    * 2212 = proton\n",
    "* p = Momentum (GeV/c)\n",
    "* thetha (rad)\n",
    "* nphe = number of photoelectrons \n",
    "* ein = inner energy (GeV)\n",
    "* eout = outer energy (GeV)"
   ]
  },
  {
   "cell_type": "code",
   "execution_count": 5,
   "metadata": {},
   "outputs": [
    {
     "data": {
      "text/html": [
       "<div>\n",
       "<style scoped>\n",
       "    .dataframe tbody tr th:only-of-type {\n",
       "        vertical-align: middle;\n",
       "    }\n",
       "\n",
       "    .dataframe tbody tr th {\n",
       "        vertical-align: top;\n",
       "    }\n",
       "\n",
       "    .dataframe thead th {\n",
       "        text-align: right;\n",
       "    }\n",
       "</style>\n",
       "<table border=\"1\" class=\"dataframe\">\n",
       "  <thead>\n",
       "    <tr style=\"text-align: right;\">\n",
       "      <th></th>\n",
       "      <th>id</th>\n",
       "      <th>p</th>\n",
       "      <th>theta</th>\n",
       "      <th>beta</th>\n",
       "      <th>nphe</th>\n",
       "      <th>ein</th>\n",
       "      <th>eout</th>\n",
       "    </tr>\n",
       "  </thead>\n",
       "  <tbody>\n",
       "    <tr>\n",
       "      <th>count</th>\n",
       "      <td>5.000000e+06</td>\n",
       "      <td>5.000000e+06</td>\n",
       "      <td>5.000000e+06</td>\n",
       "      <td>5.000000e+06</td>\n",
       "      <td>5.000000e+06</td>\n",
       "      <td>5.000000e+06</td>\n",
       "      <td>5.000000e+06</td>\n",
       "    </tr>\n",
       "    <tr>\n",
       "      <th>mean</th>\n",
       "      <td>9.941839e+02</td>\n",
       "      <td>1.230053e+00</td>\n",
       "      <td>4.889321e-01</td>\n",
       "      <td>8.995796e-01</td>\n",
       "      <td>3.575243e+00</td>\n",
       "      <td>5.635883e-02</td>\n",
       "      <td>7.033195e-02</td>\n",
       "    </tr>\n",
       "    <tr>\n",
       "      <th>std</th>\n",
       "      <td>9.724034e+02</td>\n",
       "      <td>7.414895e-01</td>\n",
       "      <td>2.942161e-01</td>\n",
       "      <td>1.132321e-01</td>\n",
       "      <td>1.779236e+01</td>\n",
       "      <td>7.882675e-02</td>\n",
       "      <td>1.020604e-01</td>\n",
       "    </tr>\n",
       "    <tr>\n",
       "      <th>min</th>\n",
       "      <td>-1.100000e+01</td>\n",
       "      <td>2.101170e-01</td>\n",
       "      <td>9.222140e-02</td>\n",
       "      <td>5.500010e-01</td>\n",
       "      <td>0.000000e+00</td>\n",
       "      <td>0.000000e+00</td>\n",
       "      <td>0.000000e+00</td>\n",
       "    </tr>\n",
       "    <tr>\n",
       "      <th>25%</th>\n",
       "      <td>2.110000e+02</td>\n",
       "      <td>6.657510e-01</td>\n",
       "      <td>2.817420e-01</td>\n",
       "      <td>8.378760e-01</td>\n",
       "      <td>0.000000e+00</td>\n",
       "      <td>0.000000e+00</td>\n",
       "      <td>0.000000e+00</td>\n",
       "    </tr>\n",
       "    <tr>\n",
       "      <th>50%</th>\n",
       "      <td>2.110000e+02</td>\n",
       "      <td>1.066150e+00</td>\n",
       "      <td>4.048670e-01</td>\n",
       "      <td>9.461940e-01</td>\n",
       "      <td>0.000000e+00</td>\n",
       "      <td>3.442440e-02</td>\n",
       "      <td>4.417490e-02</td>\n",
       "    </tr>\n",
       "    <tr>\n",
       "      <th>75%</th>\n",
       "      <td>2.212000e+03</td>\n",
       "      <td>1.649650e+00</td>\n",
       "      <td>6.117800e-01</td>\n",
       "      <td>9.855910e-01</td>\n",
       "      <td>0.000000e+00</td>\n",
       "      <td>6.834520e-02</td>\n",
       "      <td>9.365990e-02</td>\n",
       "    </tr>\n",
       "    <tr>\n",
       "      <th>max</th>\n",
       "      <td>2.212000e+03</td>\n",
       "      <td>5.286950e+00</td>\n",
       "      <td>2.219270e+00</td>\n",
       "      <td>1.499590e+00</td>\n",
       "      <td>3.490000e+02</td>\n",
       "      <td>8.993820e-01</td>\n",
       "      <td>1.097410e+00</td>\n",
       "    </tr>\n",
       "  </tbody>\n",
       "</table>\n",
       "</div>"
      ],
      "text/plain": [
       "                 id             p         theta          beta          nphe  \\\n",
       "count  5.000000e+06  5.000000e+06  5.000000e+06  5.000000e+06  5.000000e+06   \n",
       "mean   9.941839e+02  1.230053e+00  4.889321e-01  8.995796e-01  3.575243e+00   \n",
       "std    9.724034e+02  7.414895e-01  2.942161e-01  1.132321e-01  1.779236e+01   \n",
       "min   -1.100000e+01  2.101170e-01  9.222140e-02  5.500010e-01  0.000000e+00   \n",
       "25%    2.110000e+02  6.657510e-01  2.817420e-01  8.378760e-01  0.000000e+00   \n",
       "50%    2.110000e+02  1.066150e+00  4.048670e-01  9.461940e-01  0.000000e+00   \n",
       "75%    2.212000e+03  1.649650e+00  6.117800e-01  9.855910e-01  0.000000e+00   \n",
       "max    2.212000e+03  5.286950e+00  2.219270e+00  1.499590e+00  3.490000e+02   \n",
       "\n",
       "                ein          eout  \n",
       "count  5.000000e+06  5.000000e+06  \n",
       "mean   5.635883e-02  7.033195e-02  \n",
       "std    7.882675e-02  1.020604e-01  \n",
       "min    0.000000e+00  0.000000e+00  \n",
       "25%    0.000000e+00  0.000000e+00  \n",
       "50%    3.442440e-02  4.417490e-02  \n",
       "75%    6.834520e-02  9.365990e-02  \n",
       "max    8.993820e-01  1.097410e+00  "
      ]
     },
     "execution_count": 5,
     "metadata": {},
     "output_type": "execute_result"
    }
   ],
   "source": [
    "data.describe()"
   ]
  },
  {
   "cell_type": "code",
   "execution_count": 9,
   "metadata": {},
   "outputs": [
    {
     "data": {
      "text/plain": [
       "<matplotlib.axes._subplots.AxesSubplot at 0x28017f77a90>"
      ]
     },
     "execution_count": 9,
     "metadata": {},
     "output_type": "execute_result"
    },
    {
     "data": {
      "text/plain": [
       "Text(0.5, 0, 'Momentum of Particles')"
      ]
     },
     "execution_count": 9,
     "metadata": {},
     "output_type": "execute_result"
    },
    {
     "data": {
      "text/plain": [
       "Text(0, 0.5, 'Feature Value')"
      ]
     },
     "execution_count": 9,
     "metadata": {},
     "output_type": "execute_result"
    },
    {
     "data": {
      "text/plain": [
       "Text(0.5, 1.0, 'Momentum Distribution')"
      ]
     },
     "execution_count": 9,
     "metadata": {},
     "output_type": "execute_result"
    },
    {
     "data": {
      "image/png": "[encoded data removed]",
      "text/plain": [
       "<Figure size 432x288 with 1 Axes>"
      ]
     },
     "metadata": {},
     "output_type": "display_data"
    }
   ],
   "source": [
    "sns.set(style='darkgrid')\n",
    "sns.distplot(data['p'], hist=True, kde=True, color='black')\n",
    "plt.xlabel('Momentum of Particles')\n",
    "plt.ylabel('Feature Value')\n",
    "plt.title('Momentum Distribution')"
   ]
  },
  {
   "cell_type": "code",
   "execution_count": 12,
   "metadata": {},
   "outputs": [
    {
     "data": {
      "text/plain": [
       "<matplotlib.collections.PathCollection at 0x2801816dd30>"
      ]
     },
     "execution_count": 12,
     "metadata": {},
     "output_type": "execute_result"
    },
    {
     "data": {
      "text/plain": [
       "Text(0.5, 0, 'Momentum of the Particle')"
      ]
     },
     "execution_count": 12,
     "metadata": {},
     "output_type": "execute_result"
    },
    {
     "data": {
      "text/plain": [
       "Text(0, 0.5, 'beta angle')"
      ]
     },
     "execution_count": 12,
     "metadata": {},
     "output_type": "execute_result"
    },
    {
     "data": {
      "image/png": "[encoded data removed]",
      "text/plain": [
       "<Figure size 432x288 with 1 Axes>"
      ]
     },
     "metadata": {},
     "output_type": "display_data"
    }
   ],
   "source": [
    "f1 = data['p'].values\n",
    "f2 = data['beta'].values\n",
    "plt.scatter(f1, f2, c='black', s=7)\n",
    "plt.xlabel('Momentum of the Particle')\n",
    "plt.ylabel('beta angle')"
   ]
  },
  {
   "cell_type": "markdown",
   "metadata": {},
   "source": [
    "## Feature Selection\n",
    "\n",
    "Feature selection is a technique that it is utilized to choose the better attributes to predict our label. In this case, we want to predict the particle which correspondes these attributes. Therefore, by making a correlation matrix and heatmap, we will be able to pick the better attributes to get a more accurate prediction. "
   ]
  },
  {
   "cell_type": "code",
   "execution_count": 10,
   "metadata": {},
   "outputs": [
    {
     "data": {
      "text/plain": [
       "id       1.000000\n",
       "p        0.246671\n",
       "ein      0.195337\n",
       "eout     0.191691\n",
       "nphe    -0.069543\n",
       "theta   -0.300734\n",
       "beta    -0.729059\n",
       "Name: id, dtype: float64"
      ]
     },
     "execution_count": 10,
     "metadata": {},
     "output_type": "execute_result"
    }
   ],
   "source": [
    "corr_matrix = data.corr()\n",
    "corr_matrix[\"id\"].sort_values(ascending=False)"
   ]
  },
  {
   "cell_type": "markdown",
   "metadata": {},
   "source": [
    "<b> The correlation matrix tell us that the features that are more correlated to the particle are beta, theta, and momentum. This correlation is determined by which features are closest to one, positive and negative. </b>"
   ]
  },
  {
   "cell_type": "code",
   "execution_count": 11,
   "metadata": {},
   "outputs": [
    {
     "data": {
      "text/plain": [
       "<matplotlib.axes._subplots.AxesSubplot at 0x2801802ddd8>"
      ]
     },
     "execution_count": 11,
     "metadata": {},
     "output_type": "execute_result"
    },
    {
     "data": {
      "image/png": "[encoded data removed]",
      "text/plain": [
       "<Figure size 432x288 with 2 Axes>"
      ]
     },
     "metadata": {},
     "output_type": "display_data"
    }
   ],
   "source": [
    "#correlation heat map\n",
    "sns.set(style='darkgrid')\n",
    "corr = data[['id', 'p','ein', 'eout','nphe', 'theta', 'beta']].corr()\n",
    "sns.heatmap(corr)"
   ]
  },
  {
   "cell_type": "code",
   "execution_count": 18,
   "metadata": {},
   "outputs": [
    {
     "data": {
      "text/html": [
       "<div>\n",
       "<style scoped>\n",
       "    .dataframe tbody tr th:only-of-type {\n",
       "        vertical-align: middle;\n",
       "    }\n",
       "\n",
       "    .dataframe tbody tr th {\n",
       "        vertical-align: top;\n",
       "    }\n",
       "\n",
       "    .dataframe thead th {\n",
       "        text-align: right;\n",
       "    }\n",
       "</style>\n",
       "<table border=\"1\" class=\"dataframe\">\n",
       "  <thead>\n",
       "    <tr style=\"text-align: right;\">\n",
       "      <th></th>\n",
       "      <th>id</th>\n",
       "      <th>p</th>\n",
       "      <th>theta</th>\n",
       "      <th>beta</th>\n",
       "      <th>ein</th>\n",
       "      <th>eout</th>\n",
       "    </tr>\n",
       "  </thead>\n",
       "  <tbody>\n",
       "    <tr>\n",
       "      <th>0</th>\n",
       "      <td>211</td>\n",
       "      <td>0.780041</td>\n",
       "      <td>1.081480</td>\n",
       "      <td>0.989962</td>\n",
       "      <td>0.000000</td>\n",
       "      <td>0.000000</td>\n",
       "    </tr>\n",
       "    <tr>\n",
       "      <th>1</th>\n",
       "      <td>211</td>\n",
       "      <td>0.260929</td>\n",
       "      <td>0.778892</td>\n",
       "      <td>0.902450</td>\n",
       "      <td>0.000000</td>\n",
       "      <td>0.000000</td>\n",
       "    </tr>\n",
       "    <tr>\n",
       "      <th>2</th>\n",
       "      <td>2212</td>\n",
       "      <td>0.773022</td>\n",
       "      <td>0.185953</td>\n",
       "      <td>0.642428</td>\n",
       "      <td>0.101900</td>\n",
       "      <td>0.000000</td>\n",
       "    </tr>\n",
       "    <tr>\n",
       "      <th>3</th>\n",
       "      <td>211</td>\n",
       "      <td>0.476997</td>\n",
       "      <td>0.445561</td>\n",
       "      <td>0.951471</td>\n",
       "      <td>0.000000</td>\n",
       "      <td>0.000000</td>\n",
       "    </tr>\n",
       "    <tr>\n",
       "      <th>4</th>\n",
       "      <td>2212</td>\n",
       "      <td>2.123290</td>\n",
       "      <td>0.337332</td>\n",
       "      <td>0.908652</td>\n",
       "      <td>0.034379</td>\n",
       "      <td>0.049256</td>\n",
       "    </tr>\n",
       "  </tbody>\n",
       "</table>\n",
       "</div>"
      ],
      "text/plain": [
       "     id         p     theta      beta       ein      eout\n",
       "0   211  0.780041  1.081480  0.989962  0.000000  0.000000\n",
       "1   211  0.260929  0.778892  0.902450  0.000000  0.000000\n",
       "2  2212  0.773022  0.185953  0.642428  0.101900  0.000000\n",
       "3   211  0.476997  0.445561  0.951471  0.000000  0.000000\n",
       "4  2212  2.123290  0.337332  0.908652  0.034379  0.049256"
      ]
     },
     "execution_count": 18,
     "metadata": {},
     "output_type": "execute_result"
    }
   ],
   "source": [
    "data_copy = data.copy()\n",
    "data_copy.drop(\"nphe\", inplace=True, axis=1)\n",
    "data_copy.head()"
   ]
  },
  {
   "cell_type": "markdown",
   "metadata": {},
   "source": [
    "# Analysis/Modeling\n",
    "***\n",
    "\n",
    "<b> Before we implement a classification model, we divide our data in: </b>\n",
    "* Features: Features are the attributes we are going to use to predict the particle. In this case, these are momentum, theta, beta, ein and eout. \n",
    "* Label: Label is the thing we are going to predict based on the features. In this case, we are predicting the particle. "
   ]
  },
  {
   "cell_type": "code",
   "execution_count": null,
   "metadata": {},
   "outputs": [],
   "source": [
    "features = data_copy.drop('id', axis=1)\n",
    "labels = data_copy['id']"
   ]
  },
  {
   "cell_type": "markdown",
   "metadata": {},
   "source": [
    "<b> In addition, we also have to split our data set for training and testing purposes. </b>\n",
    "* Train set: This is the block of data we are going to use to train the model. The model will learn based on this training data and the values provided in it. The data is the core of the model, if we have good and enough data points, the model will have a good perfomance and accuracy. \n",
    "* Test set: To test the perfomance of our model in data it have not seen before, we must provide a test set which will help us determine how good the model is predicting new data. "
   ]
  },
  {
   "cell_type": "code",
   "execution_count": 20,
   "metadata": {},
   "outputs": [],
   "source": [
    "from sklearn.model_selection import train_test_split\n",
    "x_train, x_test, y_train, y_test = train_test_split(features, labels, test_size = 0.22, random_state = 1)"
   ]
  },
  {
   "cell_type": "code",
   "execution_count": 21,
   "metadata": {},
   "outputs": [
    {
     "data": {
      "text/plain": [
       "array([ 211, 2212,  321,  -11], dtype=int64)"
      ]
     },
     "execution_count": 21,
     "metadata": {},
     "output_type": "execute_result"
    }
   ],
   "source": [
    "y_train.unique()"
   ]
  },
  {
   "cell_type": "markdown",
   "metadata": {},
   "source": [
    "## XGBoost"
   ]
  },
  {
   "cell_type": "code",
   "execution_count": 23,
   "metadata": {},
   "outputs": [
    {
     "data": {
      "text/plain": [
       "XGBClassifier(base_score=0.5, booster=None, colsample_bylevel=1,\n",
       "              colsample_bynode=1, colsample_bytree=1, gamma=0, gpu_id=-1,\n",
       "              importance_type='gain', interaction_constraints=None,\n",
       "              learning_rate=0.300000012, max_delta_step=0, max_depth=6,\n",
       "              min_child_weight=1, missing=nan, monotone_constraints=None,\n",
       "              n_estimators=100, n_jobs=0, num_parallel_tree=1,\n",
       "              objective='multi:softprob', random_state=0, reg_alpha=0,\n",
       "              reg_lambda=1, scale_pos_weight=None, subsample=1,\n",
       "              tree_method=None, validate_parameters=False, verbosity=None)"
      ]
     },
     "execution_count": 23,
     "metadata": {},
     "output_type": "execute_result"
    },
    {
     "name": "stdout",
     "output_type": "stream",
     "text": [
      "accuracy score: 0.9713327272727272\n"
     ]
    }
   ],
   "source": [
    "from xgboost import XGBClassifier\n",
    "from sklearn.metrics import accuracy_score\n",
    "xgb = XGBClassifier()\n",
    "xgb.fit(x_train, y_train)\n",
    "pred_xgb = xgb.predict(x_test)\n",
    "print('accuracy score:', accuracy_score(y_test, pred_xgb))"
   ]
  },
  {
   "cell_type": "markdown",
   "metadata": {},
   "source": [
    "## Random Forest"
   ]
  },
  {
   "cell_type": "code",
   "execution_count": 24,
   "metadata": {},
   "outputs": [
    {
     "data": {
      "text/plain": [
       "RandomForestClassifier(bootstrap=True, ccp_alpha=0.0, class_weight=None,\n",
       "                       criterion='gini', max_depth=None, max_features='auto',\n",
       "                       max_leaf_nodes=None, max_samples=None,\n",
       "                       min_impurity_decrease=0.0, min_impurity_split=None,\n",
       "                       min_samples_leaf=1, min_samples_split=2,\n",
       "                       min_weight_fraction_leaf=0.0, n_estimators=100,\n",
       "                       n_jobs=None, oob_score=False, random_state=None,\n",
       "                       verbose=0, warm_start=False)"
      ]
     },
     "execution_count": 24,
     "metadata": {},
     "output_type": "execute_result"
    },
    {
     "name": "stdout",
     "output_type": "stream",
     "text": [
      "accuracy score: 0.9705618181818182\n"
     ]
    }
   ],
   "source": [
    "from sklearn.ensemble import RandomForestClassifier\n",
    "clf_rfc = RandomForestClassifier()\n",
    "clf_rfc.fit(x_train, y_train)\n",
    "pred_rfc = clf_rfc.predict(x_test)\n",
    "print('accuracy score:', accuracy_score(y_test, pred_rfc))"
   ]
  }
 ],
 "metadata": {
  "kernelspec": {
   "display_name": "Python 3",
   "language": "python",
   "name": "python3"
  },
  "language_info": {
   "codemirror_mode": {
    "name": "ipython",
    "version": 3
   },
   "file_extension": ".py",
   "mimetype": "text/x-python",
   "name": "python",
   "nbconvert_exporter": "python",
   "pygments_lexer": "ipython3",
   "version": "3.6.6"
  },
  "toc": {
   "base_numbering": 1,
   "nav_menu": {},
   "number_sections": true,
   "sideBar": true,
   "skip_h1_title": false,
   "title_cell": "Table of Contents",
   "title_sidebar": "Contents",
   "toc_cell": true,
   "toc_position": {},
   "toc_section_display": true,
   "toc_window_display": false
  }
 },
 "nbformat": 4,
 "nbformat_minor": 4
}
