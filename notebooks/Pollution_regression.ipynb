{
 "cells": [
  {
   "cell_type": "code",
   "execution_count": 180,
   "metadata": {},
   "outputs": [
    {
     "data": {
      "text/html": [
       "<div>\n",
       "<style scoped>\n",
       "    .dataframe tbody tr th:only-of-type {\n",
       "        vertical-align: middle;\n",
       "    }\n",
       "\n",
       "    .dataframe tbody tr th {\n",
       "        vertical-align: top;\n",
       "    }\n",
       "\n",
       "    .dataframe thead th {\n",
       "        text-align: right;\n",
       "    }\n",
       "</style>\n",
       "<table border=\"1\" class=\"dataframe\">\n",
       "  <thead>\n",
       "    <tr style=\"text-align: right;\">\n",
       "      <th></th>\n",
       "      <th>PREC</th>\n",
       "      <th>JANT</th>\n",
       "      <th>JULT</th>\n",
       "      <th>OVR</th>\n",
       "      <th>POPN</th>\n",
       "      <th>EDUC</th>\n",
       "      <th>HOUS</th>\n",
       "      <th>DENS</th>\n",
       "      <th>NONW</th>\n",
       "      <th>WWDRK</th>\n",
       "      <th>POOR</th>\n",
       "      <th>HC</th>\n",
       "      <th>NOX</th>\n",
       "      <th>SOA</th>\n",
       "      <th>HUMID</th>\n",
       "      <th>MORT</th>\n",
       "    </tr>\n",
       "  </thead>\n",
       "  <tbody>\n",
       "    <tr>\n",
       "      <th>0</th>\n",
       "      <td>36</td>\n",
       "      <td>27</td>\n",
       "      <td>71</td>\n",
       "      <td>8.1</td>\n",
       "      <td>3.34</td>\n",
       "      <td>11.4</td>\n",
       "      <td>81.5</td>\n",
       "      <td>3243</td>\n",
       "      <td>8.8</td>\n",
       "      <td>42.6</td>\n",
       "      <td>11.7</td>\n",
       "      <td>21</td>\n",
       "      <td>15</td>\n",
       "      <td>59</td>\n",
       "      <td>59</td>\n",
       "      <td>921.87</td>\n",
       "    </tr>\n",
       "    <tr>\n",
       "      <th>1</th>\n",
       "      <td>35</td>\n",
       "      <td>23</td>\n",
       "      <td>72</td>\n",
       "      <td>11.1</td>\n",
       "      <td>3.14</td>\n",
       "      <td>11.0</td>\n",
       "      <td>78.8</td>\n",
       "      <td>4281</td>\n",
       "      <td>3.5</td>\n",
       "      <td>50.7</td>\n",
       "      <td>14.4</td>\n",
       "      <td>8</td>\n",
       "      <td>10</td>\n",
       "      <td>39</td>\n",
       "      <td>57</td>\n",
       "      <td>997.88</td>\n",
       "    </tr>\n",
       "    <tr>\n",
       "      <th>2</th>\n",
       "      <td>44</td>\n",
       "      <td>29</td>\n",
       "      <td>74</td>\n",
       "      <td>10.4</td>\n",
       "      <td>3.21</td>\n",
       "      <td>9.8</td>\n",
       "      <td>81.6</td>\n",
       "      <td>4260</td>\n",
       "      <td>0.8</td>\n",
       "      <td>39.4</td>\n",
       "      <td>12.4</td>\n",
       "      <td>6</td>\n",
       "      <td>6</td>\n",
       "      <td>33</td>\n",
       "      <td>54</td>\n",
       "      <td>962.35</td>\n",
       "    </tr>\n",
       "    <tr>\n",
       "      <th>3</th>\n",
       "      <td>47</td>\n",
       "      <td>45</td>\n",
       "      <td>79</td>\n",
       "      <td>6.5</td>\n",
       "      <td>3.41</td>\n",
       "      <td>11.1</td>\n",
       "      <td>77.5</td>\n",
       "      <td>3125</td>\n",
       "      <td>27.1</td>\n",
       "      <td>50.2</td>\n",
       "      <td>20.6</td>\n",
       "      <td>18</td>\n",
       "      <td>8</td>\n",
       "      <td>24</td>\n",
       "      <td>56</td>\n",
       "      <td>982.29</td>\n",
       "    </tr>\n",
       "    <tr>\n",
       "      <th>4</th>\n",
       "      <td>43</td>\n",
       "      <td>35</td>\n",
       "      <td>77</td>\n",
       "      <td>7.6</td>\n",
       "      <td>3.44</td>\n",
       "      <td>9.6</td>\n",
       "      <td>84.6</td>\n",
       "      <td>6441</td>\n",
       "      <td>24.4</td>\n",
       "      <td>43.7</td>\n",
       "      <td>14.3</td>\n",
       "      <td>43</td>\n",
       "      <td>38</td>\n",
       "      <td>206</td>\n",
       "      <td>55</td>\n",
       "      <td>1071.29</td>\n",
       "    </tr>\n",
       "  </tbody>\n",
       "</table>\n",
       "</div>"
      ],
      "text/plain": [
       "   PREC  JANT  JULT   OVR  POPN  EDUC  HOUS  DENS  NONW  WWDRK  POOR  HC  NOX  \\\n",
       "0    36    27    71   8.1  3.34  11.4  81.5  3243   8.8   42.6  11.7  21   15   \n",
       "1    35    23    72  11.1  3.14  11.0  78.8  4281   3.5   50.7  14.4   8   10   \n",
       "2    44    29    74  10.4  3.21   9.8  81.6  4260   0.8   39.4  12.4   6    6   \n",
       "3    47    45    79   6.5  3.41  11.1  77.5  3125  27.1   50.2  20.6  18    8   \n",
       "4    43    35    77   7.6  3.44   9.6  84.6  6441  24.4   43.7  14.3  43   38   \n",
       "\n",
       "   SOA  HUMID     MORT  \n",
       "0   59     59   921.87  \n",
       "1   39     57   997.88  \n",
       "2   33     54   962.35  \n",
       "3   24     56   982.29  \n",
       "4  206     55  1071.29  "
      ]
     },
     "execution_count": 180,
     "metadata": {},
     "output_type": "execute_result"
    }
   ],
   "source": [
    "import pandas as pd\n",
    "import numpy as np\n",
    "import sklearn\n",
    "import statsmodels.formula.api as smf\n",
    "import matplotlib.pyplot as plt\n",
    "\n",
    "data = pd.read_csv(\"https://www4.stat.ncsu.edu/~boos/var.select/pollution.data.txt\", delimiter=\"\\s+\")\n",
    "\n",
    "\n",
    "\n",
    "data.columns = [\"PREC\", \"JANT\", \"JULT\", \"OVR\", \"POPN\", \"EDUC\", \"HOUS\", \"DENS\", \"NONW\", \"WWDRK\", \"POOR\", \"HC\", \"NOX\", \"SOA\", \"HUMID\", \"MORT\" ]\n",
    "\n",
    "data.head()\n"
   ]
  },
  {
   "cell_type": "code",
   "execution_count": 7,
   "metadata": {},
   "outputs": [
    {
     "data": {
      "text/plain": [
       "MORT     1.000000\n",
       "NONW     0.643742\n",
       "PREC     0.509500\n",
       "SOA      0.425898\n",
       "POOR     0.410490\n",
       "POPN     0.357307\n",
       "JULT     0.277018\n",
       "DENS     0.265503\n",
       "JANT    -0.030022\n",
       "NOX     -0.077382\n",
       "HUMID   -0.088501\n",
       "OVR     -0.174593\n",
       "HC      -0.177242\n",
       "WWDRK   -0.284805\n",
       "HOUS    -0.426821\n",
       "EDUC    -0.510988\n",
       "Name: MORT, dtype: float64"
      ]
     },
     "execution_count": 7,
     "metadata": {},
     "output_type": "execute_result"
    }
   ],
   "source": [
    "corr_matrix = data.corr()\n",
    "\n",
    "corr_matrix[\"MORT\"].sort_values(ascending=False)\n"
   ]
  },
  {
   "cell_type": "code",
   "execution_count": 25,
   "metadata": {},
   "outputs": [
    {
     "data": {
      "text/plain": [
       "array([[<matplotlib.axes._subplots.AxesSubplot object at 0x00000248871D8400>,\n",
       "        <matplotlib.axes._subplots.AxesSubplot object at 0x000002488720B358>,\n",
       "        <matplotlib.axes._subplots.AxesSubplot object at 0x00000248873E8828>],\n",
       "       [<matplotlib.axes._subplots.AxesSubplot object at 0x0000024887416CC0>,\n",
       "        <matplotlib.axes._subplots.AxesSubplot object at 0x00000248874512B0>,\n",
       "        <matplotlib.axes._subplots.AxesSubplot object at 0x0000024887480860>],\n",
       "       [<matplotlib.axes._subplots.AxesSubplot object at 0x00000248874B3E10>,\n",
       "        <matplotlib.axes._subplots.AxesSubplot object at 0x00000248874F1438>,\n",
       "        <matplotlib.axes._subplots.AxesSubplot object at 0x00000248874F1470>]],\n",
       "      dtype=object)"
      ]
     },
     "execution_count": 25,
     "metadata": {},
     "output_type": "execute_result"
    },
    {
     "data": {
      "image/png": "[encoded data removed]",
      "text/plain": [
       "<Figure size 864x576 with 9 Axes>"
      ]
     },
     "metadata": {},
     "output_type": "display_data"
    }
   ],
   "source": [
    "from pandas.plotting import scatter_matrix \n",
    "\n",
    "attributes = [\"MORT\", \"NONW\", \"PREC\"]\n",
    "\n",
    "scatter_matrix(data[attributes], figsize=(12,8))\n",
    "\n"
   ]
  },
  {
   "cell_type": "code",
   "execution_count": 24,
   "metadata": {},
   "outputs": [
    {
     "data": {
      "text/plain": [
       "<matplotlib.axes._subplots.AxesSubplot at 0x2488716e710>"
      ]
     },
     "execution_count": 24,
     "metadata": {},
     "output_type": "execute_result"
    },
    {
     "data": {
      "image/png": "[encoded data removed]",
      "text/plain": [
       "<Figure size 921.6x633.6 with 1 Axes>"
      ]
     },
     "metadata": {},
     "output_type": "display_data"
    }
   ],
   "source": [
    "data.plot(kind=\"scatter\", x=\"NONW\", y=\"MORT\", alpha=0.5)"
   ]
  },
  {
   "cell_type": "code",
   "execution_count": 23,
   "metadata": {},
   "outputs": [
    {
     "data": {
      "text/plain": [
       "<matplotlib.axes._subplots.AxesSubplot at 0x2488710db38>"
      ]
     },
     "execution_count": 23,
     "metadata": {},
     "output_type": "execute_result"
    },
    {
     "data": {
      "image/png": "[encoded data removed]",
      "text/plain": [
       "<Figure size 921.6x633.6 with 1 Axes>"
      ]
     },
     "metadata": {},
     "output_type": "display_data"
    }
   ],
   "source": [
    "data.plot(kind=\"scatter\", x=\"PREC\", y=\"MORT\", alpha=0.5)"
   ]
  },
  {
   "cell_type": "code",
   "execution_count": 13,
   "metadata": {},
   "outputs": [
    {
     "data": {
      "text/html": [
       "<div>\n",
       "<style scoped>\n",
       "    .dataframe tbody tr th:only-of-type {\n",
       "        vertical-align: middle;\n",
       "    }\n",
       "\n",
       "    .dataframe tbody tr th {\n",
       "        vertical-align: top;\n",
       "    }\n",
       "\n",
       "    .dataframe thead th {\n",
       "        text-align: right;\n",
       "    }\n",
       "</style>\n",
       "<table border=\"1\" class=\"dataframe\">\n",
       "  <thead>\n",
       "    <tr style=\"text-align: right;\">\n",
       "      <th></th>\n",
       "      <th>NONW</th>\n",
       "      <th>MORT</th>\n",
       "    </tr>\n",
       "  </thead>\n",
       "  <tbody>\n",
       "    <tr>\n",
       "      <th>0</th>\n",
       "      <td>8.8</td>\n",
       "      <td>921.87</td>\n",
       "    </tr>\n",
       "    <tr>\n",
       "      <th>1</th>\n",
       "      <td>3.5</td>\n",
       "      <td>997.88</td>\n",
       "    </tr>\n",
       "    <tr>\n",
       "      <th>2</th>\n",
       "      <td>0.8</td>\n",
       "      <td>962.35</td>\n",
       "    </tr>\n",
       "    <tr>\n",
       "      <th>3</th>\n",
       "      <td>27.1</td>\n",
       "      <td>982.29</td>\n",
       "    </tr>\n",
       "    <tr>\n",
       "      <th>4</th>\n",
       "      <td>24.4</td>\n",
       "      <td>1071.29</td>\n",
       "    </tr>\n",
       "  </tbody>\n",
       "</table>\n",
       "</div>"
      ],
      "text/plain": [
       "   NONW     MORT\n",
       "0   8.8   921.87\n",
       "1   3.5   997.88\n",
       "2   0.8   962.35\n",
       "3  27.1   982.29\n",
       "4  24.4  1071.29"
      ]
     },
     "execution_count": 13,
     "metadata": {},
     "output_type": "execute_result"
    }
   ],
   "source": [
    "\n",
    "data1 = [data[\"NONW\"], data[\"MORT\"]]\n",
    "data1 = np.transpose(data1)\n",
    "data1 = pd.DataFrame(data1, columns=[\"NONW\", \"MORT\"])\n",
    "\n",
    "data1.head()\n"
   ]
  },
  {
   "cell_type": "code",
   "execution_count": 14,
   "metadata": {},
   "outputs": [
    {
     "name": "stdout",
     "output_type": "stream",
     "text": [
      "Intercept    887.076721\n",
      "NONW           4.488777\n",
      "dtype: float64\n"
     ]
    }
   ],
   "source": [
    "result = smf.ols(formula=\"MORT ~ NONW\", data=data1).fit()\n",
    "print(result.params)"
   ]
  },
  {
   "cell_type": "code",
   "execution_count": 45,
   "metadata": {},
   "outputs": [
    {
     "name": "stdout",
     "output_type": "stream",
     "text": [
      "El coficiente de terminación está cerca de cero, por lo cual el modelo no es fiable todavía\n",
      "El intercepto cuando el porcentaje de población de color es 0 indica que la mortalidad promedio es 887. \n",
      "La pendiente indica que mientras va creciendo la cantidad de color, la mortalidad aumenta. \n"
     ]
    },
    {
     "data": {
      "text/html": [
       "<table class=\"simpletable\">\n",
       "<caption>OLS Regression Results</caption>\n",
       "<tr>\n",
       "  <th>Dep. Variable:</th>          <td>MORT</td>       <th>  R-squared:         </th> <td>   0.414</td>\n",
       "</tr>\n",
       "<tr>\n",
       "  <th>Model:</th>                   <td>OLS</td>       <th>  Adj. R-squared:    </th> <td>   0.404</td>\n",
       "</tr>\n",
       "<tr>\n",
       "  <th>Method:</th>             <td>Least Squares</td>  <th>  F-statistic:       </th> <td>   41.04</td>\n",
       "</tr>\n",
       "<tr>\n",
       "  <th>Date:</th>             <td>Fri, 13 Mar 2020</td> <th>  Prob (F-statistic):</th> <td>2.89e-08</td>\n",
       "</tr>\n",
       "<tr>\n",
       "  <th>Time:</th>                 <td>18:44:47</td>     <th>  Log-Likelihood:    </th> <td> -316.41</td>\n",
       "</tr>\n",
       "<tr>\n",
       "  <th>No. Observations:</th>      <td>    60</td>      <th>  AIC:               </th> <td>   636.8</td>\n",
       "</tr>\n",
       "<tr>\n",
       "  <th>Df Residuals:</th>          <td>    58</td>      <th>  BIC:               </th> <td>   641.0</td>\n",
       "</tr>\n",
       "<tr>\n",
       "  <th>Df Model:</th>              <td>     1</td>      <th>                     </th>     <td> </td>   \n",
       "</tr>\n",
       "<tr>\n",
       "  <th>Covariance Type:</th>      <td>nonrobust</td>    <th>                     </th>     <td> </td>   \n",
       "</tr>\n",
       "</table>\n",
       "<table class=\"simpletable\">\n",
       "<tr>\n",
       "      <td></td>         <th>coef</th>     <th>std err</th>      <th>t</th>      <th>P>|t|</th>  <th>[0.025</th>    <th>0.975]</th>  \n",
       "</tr>\n",
       "<tr>\n",
       "  <th>Intercept</th> <td>  887.0767</td> <td>   10.372</td> <td>   85.523</td> <td> 0.000</td> <td>  866.314</td> <td>  907.839</td>\n",
       "</tr>\n",
       "<tr>\n",
       "  <th>NONW</th>      <td>    4.4888</td> <td>    0.701</td> <td>    6.407</td> <td> 0.000</td> <td>    3.086</td> <td>    5.891</td>\n",
       "</tr>\n",
       "</table>\n",
       "<table class=\"simpletable\">\n",
       "<tr>\n",
       "  <th>Omnibus:</th>       <td> 0.425</td> <th>  Durbin-Watson:     </th> <td>   1.555</td>\n",
       "</tr>\n",
       "<tr>\n",
       "  <th>Prob(Omnibus):</th> <td> 0.808</td> <th>  Jarque-Bera (JB):  </th> <td>   0.587</td>\n",
       "</tr>\n",
       "<tr>\n",
       "  <th>Skew:</th>          <td>-0.109</td> <th>  Prob(JB):          </th> <td>   0.746</td>\n",
       "</tr>\n",
       "<tr>\n",
       "  <th>Kurtosis:</th>      <td> 2.567</td> <th>  Cond. No.          </th> <td>    24.8</td>\n",
       "</tr>\n",
       "</table><br/><br/>Warnings:<br/>[1] Standard Errors assume that the covariance matrix of the errors is correctly specified."
      ],
      "text/plain": [
       "<class 'statsmodels.iolib.summary.Summary'>\n",
       "\"\"\"\n",
       "                            OLS Regression Results                            \n",
       "==============================================================================\n",
       "Dep. Variable:                   MORT   R-squared:                       0.414\n",
       "Model:                            OLS   Adj. R-squared:                  0.404\n",
       "Method:                 Least Squares   F-statistic:                     41.04\n",
       "Date:                Fri, 13 Mar 2020   Prob (F-statistic):           2.89e-08\n",
       "Time:                        18:44:47   Log-Likelihood:                -316.41\n",
       "No. Observations:                  60   AIC:                             636.8\n",
       "Df Residuals:                      58   BIC:                             641.0\n",
       "Df Model:                           1                                         \n",
       "Covariance Type:            nonrobust                                         \n",
       "==============================================================================\n",
       "                 coef    std err          t      P>|t|      [0.025      0.975]\n",
       "------------------------------------------------------------------------------\n",
       "Intercept    887.0767     10.372     85.523      0.000     866.314     907.839\n",
       "NONW           4.4888      0.701      6.407      0.000       3.086       5.891\n",
       "==============================================================================\n",
       "Omnibus:                        0.425   Durbin-Watson:                   1.555\n",
       "Prob(Omnibus):                  0.808   Jarque-Bera (JB):                0.587\n",
       "Skew:                          -0.109   Prob(JB):                        0.746\n",
       "Kurtosis:                       2.567   Cond. No.                         24.8\n",
       "==============================================================================\n",
       "\n",
       "Warnings:\n",
       "[1] Standard Errors assume that the covariance matrix of the errors is correctly specified.\n",
       "\"\"\""
      ]
     },
     "execution_count": 45,
     "metadata": {},
     "output_type": "execute_result"
    }
   ],
   "source": [
    "print(\"El coficiente de terminación está cerca de cero, por lo cual el modelo no es fiable todavía\")\n",
    "print(\"El intercepto cuando el porcentaje de población de color es 0 indica que la mortalidad promedio es 887. \")\n",
    "print(\"La pendiente indica que mientras va creciendo la cantidad de color, la mortalidad aumenta. \")\n",
    "result.summary()\n"
   ]
  },
  {
   "cell_type": "code",
   "execution_count": 44,
   "metadata": {},
   "outputs": [
    {
     "data": {
      "text/plain": [
       "Intercept    887.076721\n",
       "NONW           4.488777\n",
       "dtype: float64"
      ]
     },
     "execution_count": 44,
     "metadata": {},
     "output_type": "execute_result"
    }
   ],
   "source": [
    "result.params"
   ]
  },
  {
   "cell_type": "code",
   "execution_count": 43,
   "metadata": {
    "scrolled": false
   },
   "outputs": [
    {
     "data": {
      "text/plain": [
       "Text(0.5, 1.0, 'Relationship between Non-White Population and Mortality')"
      ]
     },
     "execution_count": 43,
     "metadata": {},
     "output_type": "execute_result"
    },
    {
     "data": {
      "image/png": "[encoded data removed]",
      "text/plain": [
       "<Figure size 720x504 with 1 Axes>"
      ]
     },
     "metadata": {},
     "output_type": "display_data"
    }
   ],
   "source": [
    "import seaborn as sns \n",
    "import matplotlib.style as style \n",
    "\n",
    "style.use('seaborn-poster') #sets the size of the charts\n",
    "style.use('ggplot')\n",
    "\n",
    "fig = plt.figure(figsize=(10,7))\n",
    "sns.regplot(x=data.NONW,y=data.MORT,color='green', marker='+')\n",
    "plt.title('Relationship between Non-White Population and Mortality', size=24)"
   ]
  },
  {
   "cell_type": "code",
   "execution_count": 42,
   "metadata": {
    "scrolled": false
   },
   "outputs": [
    {
     "data": {
      "text/html": [
       "<table class=\"simpletable\">\n",
       "<caption>OLS Regression Results</caption>\n",
       "<tr>\n",
       "  <th>Dep. Variable:</th>          <td>MORT</td>       <th>  R-squared:         </th> <td>   0.765</td>\n",
       "</tr>\n",
       "<tr>\n",
       "  <th>Model:</th>                   <td>OLS</td>       <th>  Adj. R-squared:    </th> <td>   0.685</td>\n",
       "</tr>\n",
       "<tr>\n",
       "  <th>Method:</th>             <td>Least Squares</td>  <th>  F-statistic:       </th> <td>   9.542</td>\n",
       "</tr>\n",
       "<tr>\n",
       "  <th>Date:</th>             <td>Fri, 13 Mar 2020</td> <th>  Prob (F-statistic):</th> <td>2.19e-09</td>\n",
       "</tr>\n",
       "<tr>\n",
       "  <th>Time:</th>                 <td>18:37:03</td>     <th>  Log-Likelihood:    </th> <td> -289.03</td>\n",
       "</tr>\n",
       "<tr>\n",
       "  <th>No. Observations:</th>      <td>    60</td>      <th>  AIC:               </th> <td>   610.1</td>\n",
       "</tr>\n",
       "<tr>\n",
       "  <th>Df Residuals:</th>          <td>    44</td>      <th>  BIC:               </th> <td>   643.6</td>\n",
       "</tr>\n",
       "<tr>\n",
       "  <th>Df Model:</th>              <td>    15</td>      <th>                     </th>     <td> </td>   \n",
       "</tr>\n",
       "<tr>\n",
       "  <th>Covariance Type:</th>      <td>nonrobust</td>    <th>                     </th>     <td> </td>   \n",
       "</tr>\n",
       "</table>\n",
       "<table class=\"simpletable\">\n",
       "<tr>\n",
       "      <td></td>         <th>coef</th>     <th>std err</th>      <th>t</th>      <th>P>|t|</th>  <th>[0.025</th>    <th>0.975]</th>  \n",
       "</tr>\n",
       "<tr>\n",
       "  <th>Intercept</th> <td> 1763.9979</td> <td>  437.330</td> <td>    4.034</td> <td> 0.000</td> <td>  882.617</td> <td> 2645.379</td>\n",
       "</tr>\n",
       "<tr>\n",
       "  <th>PREC</th>      <td>    1.9054</td> <td>    0.924</td> <td>    2.063</td> <td> 0.045</td> <td>    0.044</td> <td>    3.767</td>\n",
       "</tr>\n",
       "<tr>\n",
       "  <th>JANT</th>      <td>   -1.9376</td> <td>    1.108</td> <td>   -1.748</td> <td> 0.087</td> <td>   -4.171</td> <td>    0.296</td>\n",
       "</tr>\n",
       "<tr>\n",
       "  <th>JULT</th>      <td>   -3.1004</td> <td>    1.902</td> <td>   -1.630</td> <td> 0.110</td> <td>   -6.933</td> <td>    0.732</td>\n",
       "</tr>\n",
       "<tr>\n",
       "  <th>OVR</th>       <td>   -9.0652</td> <td>    8.486</td> <td>   -1.068</td> <td> 0.291</td> <td>  -26.168</td> <td>    8.038</td>\n",
       "</tr>\n",
       "<tr>\n",
       "  <th>POPN</th>      <td> -106.8310</td> <td>   69.780</td> <td>   -1.531</td> <td> 0.133</td> <td> -247.464</td> <td>   33.801</td>\n",
       "</tr>\n",
       "<tr>\n",
       "  <th>EDUC</th>      <td>  -17.1569</td> <td>   11.860</td> <td>   -1.447</td> <td> 0.155</td> <td>  -41.059</td> <td>    6.746</td>\n",
       "</tr>\n",
       "<tr>\n",
       "  <th>HOUS</th>      <td>   -0.6511</td> <td>    1.768</td> <td>   -0.368</td> <td> 0.714</td> <td>   -4.214</td> <td>    2.912</td>\n",
       "</tr>\n",
       "<tr>\n",
       "  <th>DENS</th>      <td>    0.0036</td> <td>    0.004</td> <td>    0.894</td> <td> 0.376</td> <td>   -0.005</td> <td>    0.012</td>\n",
       "</tr>\n",
       "<tr>\n",
       "  <th>NONW</th>      <td>    4.4596</td> <td>    1.327</td> <td>    3.360</td> <td> 0.002</td> <td>    1.785</td> <td>    7.134</td>\n",
       "</tr>\n",
       "<tr>\n",
       "  <th>WWDRK</th>     <td>   -0.1871</td> <td>    1.662</td> <td>   -0.113</td> <td> 0.911</td> <td>   -3.536</td> <td>    3.162</td>\n",
       "</tr>\n",
       "<tr>\n",
       "  <th>POOR</th>      <td>   -0.1674</td> <td>    3.227</td> <td>   -0.052</td> <td> 0.959</td> <td>   -6.672</td> <td>    6.337</td>\n",
       "</tr>\n",
       "<tr>\n",
       "  <th>HC</th>        <td>   -0.6722</td> <td>    0.491</td> <td>   -1.369</td> <td> 0.178</td> <td>   -1.662</td> <td>    0.317</td>\n",
       "</tr>\n",
       "<tr>\n",
       "  <th>NOX</th>       <td>    1.3401</td> <td>    1.006</td> <td>    1.333</td> <td> 0.190</td> <td>   -0.687</td> <td>    3.367</td>\n",
       "</tr>\n",
       "<tr>\n",
       "  <th>SOA</th>       <td>    0.0863</td> <td>    0.148</td> <td>    0.585</td> <td> 0.562</td> <td>   -0.211</td> <td>    0.384</td>\n",
       "</tr>\n",
       "<tr>\n",
       "  <th>HUMID</th>     <td>    0.1067</td> <td>    1.169</td> <td>    0.091</td> <td> 0.928</td> <td>   -2.250</td> <td>    2.464</td>\n",
       "</tr>\n",
       "</table>\n",
       "<table class=\"simpletable\">\n",
       "<tr>\n",
       "  <th>Omnibus:</th>       <td> 2.991</td> <th>  Durbin-Watson:     </th> <td>   2.129</td>\n",
       "</tr>\n",
       "<tr>\n",
       "  <th>Prob(Omnibus):</th> <td> 0.224</td> <th>  Jarque-Bera (JB):  </th> <td>   2.088</td>\n",
       "</tr>\n",
       "<tr>\n",
       "  <th>Skew:</th>          <td> 0.359</td> <th>  Prob(JB):          </th> <td>   0.352</td>\n",
       "</tr>\n",
       "<tr>\n",
       "  <th>Kurtosis:</th>      <td> 3.566</td> <th>  Cond. No.          </th> <td>4.05e+05</td>\n",
       "</tr>\n",
       "</table><br/><br/>Warnings:<br/>[1] Standard Errors assume that the covariance matrix of the errors is correctly specified.<br/>[2] The condition number is large, 4.05e+05. This might indicate that there are<br/>strong multicollinearity or other numerical problems."
      ],
      "text/plain": [
       "<class 'statsmodels.iolib.summary.Summary'>\n",
       "\"\"\"\n",
       "                            OLS Regression Results                            \n",
       "==============================================================================\n",
       "Dep. Variable:                   MORT   R-squared:                       0.765\n",
       "Model:                            OLS   Adj. R-squared:                  0.685\n",
       "Method:                 Least Squares   F-statistic:                     9.542\n",
       "Date:                Fri, 13 Mar 2020   Prob (F-statistic):           2.19e-09\n",
       "Time:                        18:37:03   Log-Likelihood:                -289.03\n",
       "No. Observations:                  60   AIC:                             610.1\n",
       "Df Residuals:                      44   BIC:                             643.6\n",
       "Df Model:                          15                                         \n",
       "Covariance Type:            nonrobust                                         \n",
       "==============================================================================\n",
       "                 coef    std err          t      P>|t|      [0.025      0.975]\n",
       "------------------------------------------------------------------------------\n",
       "Intercept   1763.9979    437.330      4.034      0.000     882.617    2645.379\n",
       "PREC           1.9054      0.924      2.063      0.045       0.044       3.767\n",
       "JANT          -1.9376      1.108     -1.748      0.087      -4.171       0.296\n",
       "JULT          -3.1004      1.902     -1.630      0.110      -6.933       0.732\n",
       "OVR           -9.0652      8.486     -1.068      0.291     -26.168       8.038\n",
       "POPN        -106.8310     69.780     -1.531      0.133    -247.464      33.801\n",
       "EDUC         -17.1569     11.860     -1.447      0.155     -41.059       6.746\n",
       "HOUS          -0.6511      1.768     -0.368      0.714      -4.214       2.912\n",
       "DENS           0.0036      0.004      0.894      0.376      -0.005       0.012\n",
       "NONW           4.4596      1.327      3.360      0.002       1.785       7.134\n",
       "WWDRK         -0.1871      1.662     -0.113      0.911      -3.536       3.162\n",
       "POOR          -0.1674      3.227     -0.052      0.959      -6.672       6.337\n",
       "HC            -0.6722      0.491     -1.369      0.178      -1.662       0.317\n",
       "NOX            1.3401      1.006      1.333      0.190      -0.687       3.367\n",
       "SOA            0.0863      0.148      0.585      0.562      -0.211       0.384\n",
       "HUMID          0.1067      1.169      0.091      0.928      -2.250       2.464\n",
       "==============================================================================\n",
       "Omnibus:                        2.991   Durbin-Watson:                   2.129\n",
       "Prob(Omnibus):                  0.224   Jarque-Bera (JB):                2.088\n",
       "Skew:                           0.359   Prob(JB):                        0.352\n",
       "Kurtosis:                       3.566   Cond. No.                     4.05e+05\n",
       "==============================================================================\n",
       "\n",
       "Warnings:\n",
       "[1] Standard Errors assume that the covariance matrix of the errors is correctly specified.\n",
       "[2] The condition number is large, 4.05e+05. This might indicate that there are\n",
       "strong multicollinearity or other numerical problems.\n",
       "\"\"\""
      ]
     },
     "execution_count": 42,
     "metadata": {},
     "output_type": "execute_result"
    }
   ],
   "source": [
    "regall=smf.ols(formula='MORT~PREC+JANT+JULT+OVR+POPN+EDUC+HOUS+DENS+NONW+WWDRK+POOR+HC+NOX+SOA+HUMID',data=data).fit()\n",
    "regall.summary()"
   ]
  },
  {
   "cell_type": "code",
   "execution_count": 18,
   "metadata": {},
   "outputs": [
    {
     "data": {
      "text/html": [
       "<table class=\"simpletable\">\n",
       "<caption>OLS Regression Results</caption>\n",
       "<tr>\n",
       "  <th>Dep. Variable:</th>          <td>MORT</td>       <th>  R-squared:         </th> <td>   0.763</td>\n",
       "</tr>\n",
       "<tr>\n",
       "  <th>Model:</th>                   <td>OLS</td>       <th>  Adj. R-squared:    </th> <td>   0.714</td>\n",
       "</tr>\n",
       "<tr>\n",
       "  <th>Method:</th>             <td>Least Squares</td>  <th>  F-statistic:       </th> <td>   15.73</td>\n",
       "</tr>\n",
       "<tr>\n",
       "  <th>Date:</th>             <td>Fri, 13 Mar 2020</td> <th>  Prob (F-statistic):</th> <td>3.96e-12</td>\n",
       "</tr>\n",
       "<tr>\n",
       "  <th>Time:</th>                 <td>17:37:32</td>     <th>  Log-Likelihood:    </th> <td> -289.33</td>\n",
       "</tr>\n",
       "<tr>\n",
       "  <th>No. Observations:</th>      <td>    60</td>      <th>  AIC:               </th> <td>   600.7</td>\n",
       "</tr>\n",
       "<tr>\n",
       "  <th>Df Residuals:</th>          <td>    49</td>      <th>  BIC:               </th> <td>   623.7</td>\n",
       "</tr>\n",
       "<tr>\n",
       "  <th>Df Model:</th>              <td>    10</td>      <th>                     </th>     <td> </td>   \n",
       "</tr>\n",
       "<tr>\n",
       "  <th>Covariance Type:</th>      <td>nonrobust</td>    <th>                     </th>     <td> </td>   \n",
       "</tr>\n",
       "</table>\n",
       "<table class=\"simpletable\">\n",
       "<tr>\n",
       "      <td></td>         <th>coef</th>     <th>std err</th>      <th>t</th>      <th>P>|t|</th>  <th>[0.025</th>    <th>0.975]</th>  \n",
       "</tr>\n",
       "<tr>\n",
       "  <th>Intercept</th> <td> 1791.2106</td> <td>  361.983</td> <td>    4.948</td> <td> 0.000</td> <td> 1063.778</td> <td> 2518.643</td>\n",
       "</tr>\n",
       "<tr>\n",
       "  <th>PREC</th>      <td>    1.8339</td> <td>    0.837</td> <td>    2.190</td> <td> 0.033</td> <td>    0.151</td> <td>    3.517</td>\n",
       "</tr>\n",
       "<tr>\n",
       "  <th>JANT</th>      <td>   -2.0814</td> <td>    0.718</td> <td>   -2.899</td> <td> 0.006</td> <td>   -3.524</td> <td>   -0.639</td>\n",
       "</tr>\n",
       "<tr>\n",
       "  <th>JULT</th>      <td>   -3.2390</td> <td>    1.399</td> <td>   -2.315</td> <td> 0.025</td> <td>   -6.050</td> <td>   -0.428</td>\n",
       "</tr>\n",
       "<tr>\n",
       "  <th>OVR</th>       <td>   -9.6536</td> <td>    7.246</td> <td>   -1.332</td> <td> 0.189</td> <td>  -24.216</td> <td>    4.909</td>\n",
       "</tr>\n",
       "<tr>\n",
       "  <th>POPN</th>      <td> -113.7670</td> <td>   64.144</td> <td>   -1.774</td> <td> 0.082</td> <td> -242.668</td> <td>   15.134</td>\n",
       "</tr>\n",
       "<tr>\n",
       "  <th>EDUC</th>      <td>  -20.6110</td> <td>    7.585</td> <td>   -2.717</td> <td> 0.009</td> <td>  -35.854</td> <td>   -5.368</td>\n",
       "</tr>\n",
       "<tr>\n",
       "  <th>DENS</th>      <td>    0.0035</td> <td>    0.003</td> <td>    1.013</td> <td> 0.316</td> <td>   -0.003</td> <td>    0.011</td>\n",
       "</tr>\n",
       "<tr>\n",
       "  <th>NONW</th>      <td>    4.6163</td> <td>    0.970</td> <td>    4.760</td> <td> 0.000</td> <td>    2.668</td> <td>    6.565</td>\n",
       "</tr>\n",
       "<tr>\n",
       "  <th>HC</th>        <td>   -0.8804</td> <td>    0.322</td> <td>   -2.736</td> <td> 0.009</td> <td>   -1.527</td> <td>   -0.234</td>\n",
       "</tr>\n",
       "<tr>\n",
       "  <th>NOX</th>       <td>    1.7724</td> <td>    0.617</td> <td>    2.872</td> <td> 0.006</td> <td>    0.532</td> <td>    3.012</td>\n",
       "</tr>\n",
       "</table>\n",
       "<table class=\"simpletable\">\n",
       "<tr>\n",
       "  <th>Omnibus:</th>       <td> 1.396</td> <th>  Durbin-Watson:     </th> <td>   2.144</td>\n",
       "</tr>\n",
       "<tr>\n",
       "  <th>Prob(Omnibus):</th> <td> 0.498</td> <th>  Jarque-Bera (JB):  </th> <td>   0.724</td>\n",
       "</tr>\n",
       "<tr>\n",
       "  <th>Skew:</th>          <td> 0.197</td> <th>  Prob(JB):          </th> <td>   0.696</td>\n",
       "</tr>\n",
       "<tr>\n",
       "  <th>Kurtosis:</th>      <td> 3.366</td> <th>  Cond. No.          </th> <td>3.53e+05</td>\n",
       "</tr>\n",
       "</table><br/><br/>Warnings:<br/>[1] Standard Errors assume that the covariance matrix of the errors is correctly specified.<br/>[2] The condition number is large, 3.53e+05. This might indicate that there are<br/>strong multicollinearity or other numerical problems."
      ],
      "text/plain": [
       "<class 'statsmodels.iolib.summary.Summary'>\n",
       "\"\"\"\n",
       "                            OLS Regression Results                            \n",
       "==============================================================================\n",
       "Dep. Variable:                   MORT   R-squared:                       0.763\n",
       "Model:                            OLS   Adj. R-squared:                  0.714\n",
       "Method:                 Least Squares   F-statistic:                     15.73\n",
       "Date:                Fri, 13 Mar 2020   Prob (F-statistic):           3.96e-12\n",
       "Time:                        17:37:32   Log-Likelihood:                -289.33\n",
       "No. Observations:                  60   AIC:                             600.7\n",
       "Df Residuals:                      49   BIC:                             623.7\n",
       "Df Model:                          10                                         \n",
       "Covariance Type:            nonrobust                                         \n",
       "==============================================================================\n",
       "                 coef    std err          t      P>|t|      [0.025      0.975]\n",
       "------------------------------------------------------------------------------\n",
       "Intercept   1791.2106    361.983      4.948      0.000    1063.778    2518.643\n",
       "PREC           1.8339      0.837      2.190      0.033       0.151       3.517\n",
       "JANT          -2.0814      0.718     -2.899      0.006      -3.524      -0.639\n",
       "JULT          -3.2390      1.399     -2.315      0.025      -6.050      -0.428\n",
       "OVR           -9.6536      7.246     -1.332      0.189     -24.216       4.909\n",
       "POPN        -113.7670     64.144     -1.774      0.082    -242.668      15.134\n",
       "EDUC         -20.6110      7.585     -2.717      0.009     -35.854      -5.368\n",
       "DENS           0.0035      0.003      1.013      0.316      -0.003       0.011\n",
       "NONW           4.6163      0.970      4.760      0.000       2.668       6.565\n",
       "HC            -0.8804      0.322     -2.736      0.009      -1.527      -0.234\n",
       "NOX            1.7724      0.617      2.872      0.006       0.532       3.012\n",
       "==============================================================================\n",
       "Omnibus:                        1.396   Durbin-Watson:                   2.144\n",
       "Prob(Omnibus):                  0.498   Jarque-Bera (JB):                0.724\n",
       "Skew:                           0.197   Prob(JB):                        0.696\n",
       "Kurtosis:                       3.366   Cond. No.                     3.53e+05\n",
       "==============================================================================\n",
       "\n",
       "Warnings:\n",
       "[1] Standard Errors assume that the covariance matrix of the errors is correctly specified.\n",
       "[2] The condition number is large, 3.53e+05. This might indicate that there are\n",
       "strong multicollinearity or other numerical problems.\n",
       "\"\"\""
      ]
     },
     "execution_count": 18,
     "metadata": {},
     "output_type": "execute_result"
    }
   ],
   "source": [
    "regall=smf.ols(formula='MORT~PREC+JANT+JULT+OVR+POPN+EDUC+DENS+NONW+HC+NOX',data=data).fit()\n",
    "regall.summary()"
   ]
  },
  {
   "cell_type": "code",
   "execution_count": null,
   "metadata": {},
   "outputs": [],
   "source": [
    "pred=regall.predict(pd.DataFrame({'PREC': [47], 'JANT':[35], 'JULT': [74], 'OVR': [10.4], 'POPN': [3.21], 'EDUC': [11.0], 'DENS': [6441], 'NONW': [27.1], 'HC': [8], 'NOX': [38]}))\n",
    "print(\"El MORT predicho es:\",pred[0])"
   ]
  },
  {
   "cell_type": "code",
   "execution_count": null,
   "metadata": {},
   "outputs": [],
   "source": [
    "from math import log,pi\n",
    "sse=regall.ssr\n",
    "akaike=82*(log(2*pi*sse/77)+1)+5\n",
    "print(akaike)"
   ]
  },
  {
   "cell_type": "code",
   "execution_count": null,
   "metadata": {},
   "outputs": [],
   "source": [
    "regall=smf.ols(formula='MORT~PREC+EDUC+NONW+JULT+POPN+HC+NOX',data=data).fit().aic\n",
    "print(regall)"
   ]
  },
  {
   "cell_type": "code",
   "execution_count": null,
   "metadata": {},
   "outputs": [],
   "source": [
    "regall=smf.ols(formula='MORT~PREC+EDUC+NONW+JULT+NOX+HC',data=data).fit().aic\n",
    "print(regall)"
   ]
  },
  {
   "cell_type": "code",
   "execution_count": null,
   "metadata": {},
   "outputs": [],
   "source": [
    "# Haciendo una funcion que seleccione las mejores variables usando Forward pero con el AIC\n",
    "def forward_aic_selection(data, response):\n",
    "    \"\"\"Linear model designed by forward selection.\n",
    "\n",
    "    Parameters:\n",
    "    -----------\n",
    "    data : pandas DataFrame with all possible predictors and response\n",
    "\n",
    "    response: string, name of response column in data\n",
    "\n",
    "    Returns:\n",
    "    --------\n",
    "    model: an \"optimal\" fitted statsmodels linear model\n",
    "           with an intercept\n",
    "           selected by forward selection\n",
    "           evaluated by adjusted R-squared\n",
    "    \"\"\"\n",
    "    remaining = set(data.columns)\n",
    "    remaining.remove(response)\n",
    "    selected = []\n",
    "    current_score, best_new_score = 10000.0, 10000.0\n",
    "    while remaining and current_score == best_new_score:\n",
    "        scores_with_candidates = []\n",
    "        for candidate in remaining:\n",
    "            formula = \"{} ~ {} + 1\".format(response,\n",
    "                                           ' + '.join(selected + [candidate]))\n",
    "            score = smf.ols(formula, data).fit().aic\n",
    "            scores_with_candidates.append((score, candidate))\n",
    "        scores_with_candidates.sort(reverse=True)\n",
    "        best_new_score, best_candidate = scores_with_candidates.pop()\n",
    "        print(best_new_score, best_candidate)\n",
    "        if current_score > best_new_score:\n",
    "            remaining.remove(best_candidate)\n",
    "            selected.append(best_candidate)\n",
    "            current_score = best_new_score\n",
    "    formula = \"{} ~ {} + 1\".format(response,\n",
    "                                   ' + '.join(selected))\n",
    "    model = smf.ols(formula, data).fit()\n",
    "    return model"
   ]
  },
  {
   "cell_type": "code",
   "execution_count": null,
   "metadata": {},
   "outputs": [],
   "source": [
    "model=forward_aic_selection(data,\"MORT\")\n",
    "print(model.model.formula)\n",
    "print(model.rsquared_adj)\n",
    "print(model.aic)"
   ]
  },
  {
   "cell_type": "code",
   "execution_count": null,
   "metadata": {},
   "outputs": [],
   "source": [
    "#Funcion auxiliar que para generar una formula excluyendo una variable\n",
    "def ols_formula(df, dependent_var, excluded_cols):\n",
    "    '''\n",
    "    Generates the R style formula for statsmodels (patsy) given\n",
    "    the dataframe, dependent variable and optional excluded columns\n",
    "    as strings\n",
    "    '''\n",
    "    df_columns = list(df.columns.values)\n",
    "    df_columns.remove(dependent_var)\n",
    "    for col in excluded_cols:\n",
    "        df_columns.remove(col)\n",
    "    return dependent_var + ' ~ ' + ' + '.join(df_columns)\n",
    "\n",
    "def back1(data,best_candidate,response,remaining,current_score):\n",
    "        scores_with_candidates=[]\n",
    "        #step 2\n",
    "        data1=data.drop(best_candidate,axis=1)\n",
    "        for candidate in remaining:\n",
    "            formula=ols_formula(data1,response,[candidate])\n",
    "            score = smf.ols(formula, data1).fit().aic\n",
    "            scores_with_candidates.append((score,candidate))\n",
    "        scores_with_candidates.sort(reverse=True)\n",
    "        worst_new_score, best_candidate = scores_with_candidates.pop()\n",
    "        print(\"Feature considered for elimination in this step:\",best_candidate) \n",
    "        if current_score>worst_new_score:\n",
    "            remaining.remove(best_candidate)\n",
    "            current_score = worst_new_score\n",
    "        return remaining, current_score\n",
    "\n",
    "\n",
    "\n",
    "#Funcion para hacer backward selection \n",
    "def backward_elimination(data,response):\n",
    "    #Step 0\n",
    "    formula=ols_formula(data,response,\"\")\n",
    "    result = smf.ols(formula, data).fit().aic\n",
    "    remaining = list(data.columns)\n",
    "    remaining.remove(response)\n",
    "    current_score, worst_new_score = result, result\n",
    "    print('AIC including all the features\\n', current_score)\n",
    "    scores_with_candidates = []\n",
    "    #Step 1\n",
    "    for candidate in remaining:\n",
    "        formula=ols_formula(data,response,[candidate])\n",
    "        score = smf.ols(formula, data).fit().aic\n",
    "        scores_with_candidates.append((score,candidate))\n",
    "    scores_with_candidates.sort(reverse=True)\n",
    "    worst_new_score, best_candidate = scores_with_candidates.pop()\n",
    "    print(\"Feature considered for elimination in this step:\",best_candidate, \"\\nAIC\",worst_new_score,\"\\n\")   \n",
    "    if current_score<worst_new_score:\n",
    "        print(\" Ended at step 1: all the features are important\")\n",
    "    else:\n",
    "        remaining.remove(best_candidate)\n",
    "        current_score = worst_new_score\n",
    "        aic1=current_score\n",
    "        #print \"ac1\", aic1\n",
    "        for step in range (0,8):\n",
    "            back1(data,best_candidate,response,remaining,current_score)\n",
    "            formula = \"{} ~ {} + 1\".format(response, ' + '.join(remaining))\n",
    "            aic2=smf.ols(formula, data).fit().aic\n",
    "            #print \"aic2\", aic2\n",
    "            if aic2>=aic1:\n",
    "                break\n",
    "            else:\n",
    "                aic1=aic2\n",
    "                print (\"AIC=\",aic1)\n",
    "    print(\"best AIC:\", aic1, \"\\n\",\"Best Features:\", remaining)\n",
    "    formula = \"{} ~ {} + 1\".format(response, ' + '.join(remaining))\n",
    "    print(formula)\n",
    "    model = smf.ols(formula, data).fit()\n",
    "    return model"
   ]
  },
  {
   "cell_type": "code",
   "execution_count": null,
   "metadata": {},
   "outputs": [],
   "source": [
    "model=backward_elimination(data,'MORT')\n",
    "print(model.model.formula)\n",
    "print(model.rsquared_adj)"
   ]
  },
  {
   "cell_type": "code",
   "execution_count": 198,
   "metadata": {},
   "outputs": [
    {
     "data": {
      "text/html": [
       "<div>\n",
       "<style scoped>\n",
       "    .dataframe tbody tr th:only-of-type {\n",
       "        vertical-align: middle;\n",
       "    }\n",
       "\n",
       "    .dataframe tbody tr th {\n",
       "        vertical-align: top;\n",
       "    }\n",
       "\n",
       "    .dataframe thead th {\n",
       "        text-align: right;\n",
       "    }\n",
       "</style>\n",
       "<table border=\"1\" class=\"dataframe\">\n",
       "  <thead>\n",
       "    <tr style=\"text-align: right;\">\n",
       "      <th></th>\n",
       "      <th>school</th>\n",
       "      <th>sex</th>\n",
       "      <th>age</th>\n",
       "      <th>address</th>\n",
       "      <th>famsize</th>\n",
       "      <th>Pstatus</th>\n",
       "      <th>Medu</th>\n",
       "      <th>Fedu</th>\n",
       "      <th>Mjob</th>\n",
       "      <th>Fjob</th>\n",
       "      <th>...</th>\n",
       "      <th>famrel</th>\n",
       "      <th>freetime</th>\n",
       "      <th>goout</th>\n",
       "      <th>Dalc</th>\n",
       "      <th>Walc</th>\n",
       "      <th>health</th>\n",
       "      <th>absences</th>\n",
       "      <th>G1</th>\n",
       "      <th>G2</th>\n",
       "      <th>G3</th>\n",
       "    </tr>\n",
       "  </thead>\n",
       "  <tbody>\n",
       "    <tr>\n",
       "      <th>0</th>\n",
       "      <td>GP</td>\n",
       "      <td>F</td>\n",
       "      <td>18</td>\n",
       "      <td>U</td>\n",
       "      <td>GT3</td>\n",
       "      <td>A</td>\n",
       "      <td>4</td>\n",
       "      <td>4</td>\n",
       "      <td>at_home</td>\n",
       "      <td>teacher</td>\n",
       "      <td>...</td>\n",
       "      <td>4</td>\n",
       "      <td>3</td>\n",
       "      <td>4</td>\n",
       "      <td>1</td>\n",
       "      <td>1</td>\n",
       "      <td>3</td>\n",
       "      <td>6</td>\n",
       "      <td>5</td>\n",
       "      <td>6</td>\n",
       "      <td>6</td>\n",
       "    </tr>\n",
       "    <tr>\n",
       "      <th>1</th>\n",
       "      <td>GP</td>\n",
       "      <td>F</td>\n",
       "      <td>17</td>\n",
       "      <td>U</td>\n",
       "      <td>GT3</td>\n",
       "      <td>T</td>\n",
       "      <td>1</td>\n",
       "      <td>1</td>\n",
       "      <td>at_home</td>\n",
       "      <td>other</td>\n",
       "      <td>...</td>\n",
       "      <td>5</td>\n",
       "      <td>3</td>\n",
       "      <td>3</td>\n",
       "      <td>1</td>\n",
       "      <td>1</td>\n",
       "      <td>3</td>\n",
       "      <td>4</td>\n",
       "      <td>5</td>\n",
       "      <td>5</td>\n",
       "      <td>6</td>\n",
       "    </tr>\n",
       "    <tr>\n",
       "      <th>2</th>\n",
       "      <td>GP</td>\n",
       "      <td>F</td>\n",
       "      <td>15</td>\n",
       "      <td>U</td>\n",
       "      <td>LE3</td>\n",
       "      <td>T</td>\n",
       "      <td>1</td>\n",
       "      <td>1</td>\n",
       "      <td>at_home</td>\n",
       "      <td>other</td>\n",
       "      <td>...</td>\n",
       "      <td>4</td>\n",
       "      <td>3</td>\n",
       "      <td>2</td>\n",
       "      <td>2</td>\n",
       "      <td>3</td>\n",
       "      <td>3</td>\n",
       "      <td>10</td>\n",
       "      <td>7</td>\n",
       "      <td>8</td>\n",
       "      <td>10</td>\n",
       "    </tr>\n",
       "    <tr>\n",
       "      <th>3</th>\n",
       "      <td>GP</td>\n",
       "      <td>F</td>\n",
       "      <td>15</td>\n",
       "      <td>U</td>\n",
       "      <td>GT3</td>\n",
       "      <td>T</td>\n",
       "      <td>4</td>\n",
       "      <td>2</td>\n",
       "      <td>health</td>\n",
       "      <td>services</td>\n",
       "      <td>...</td>\n",
       "      <td>3</td>\n",
       "      <td>2</td>\n",
       "      <td>2</td>\n",
       "      <td>1</td>\n",
       "      <td>1</td>\n",
       "      <td>5</td>\n",
       "      <td>2</td>\n",
       "      <td>15</td>\n",
       "      <td>14</td>\n",
       "      <td>15</td>\n",
       "    </tr>\n",
       "    <tr>\n",
       "      <th>4</th>\n",
       "      <td>GP</td>\n",
       "      <td>F</td>\n",
       "      <td>16</td>\n",
       "      <td>U</td>\n",
       "      <td>GT3</td>\n",
       "      <td>T</td>\n",
       "      <td>3</td>\n",
       "      <td>3</td>\n",
       "      <td>other</td>\n",
       "      <td>other</td>\n",
       "      <td>...</td>\n",
       "      <td>4</td>\n",
       "      <td>3</td>\n",
       "      <td>2</td>\n",
       "      <td>1</td>\n",
       "      <td>2</td>\n",
       "      <td>5</td>\n",
       "      <td>4</td>\n",
       "      <td>6</td>\n",
       "      <td>10</td>\n",
       "      <td>10</td>\n",
       "    </tr>\n",
       "  </tbody>\n",
       "</table>\n",
       "<p>5 rows × 33 columns</p>\n",
       "</div>"
      ],
      "text/plain": [
       "  school sex  age address famsize Pstatus  Medu  Fedu     Mjob      Fjob  ...  \\\n",
       "0     GP   F   18       U     GT3       A     4     4  at_home   teacher  ...   \n",
       "1     GP   F   17       U     GT3       T     1     1  at_home     other  ...   \n",
       "2     GP   F   15       U     LE3       T     1     1  at_home     other  ...   \n",
       "3     GP   F   15       U     GT3       T     4     2   health  services  ...   \n",
       "4     GP   F   16       U     GT3       T     3     3    other     other  ...   \n",
       "\n",
       "  famrel freetime  goout  Dalc  Walc health absences  G1  G2  G3  \n",
       "0      4        3      4     1     1      3        6   5   6   6  \n",
       "1      5        3      3     1     1      3        4   5   5   6  \n",
       "2      4        3      2     2     3      3       10   7   8  10  \n",
       "3      3        2      2     1     1      5        2  15  14  15  \n",
       "4      4        3      2     1     2      5        4   6  10  10  \n",
       "\n",
       "[5 rows x 33 columns]"
      ]
     },
     "execution_count": 198,
     "metadata": {},
     "output_type": "execute_result"
    }
   ],
   "source": [
    "studentData = pd.read_csv(\"student-mat.csv\", delimiter=\";\")\n",
    "\n",
    "studentData.head()"
   ]
  },
  {
   "cell_type": "code",
   "execution_count": 199,
   "metadata": {},
   "outputs": [
    {
     "name": "stdout",
     "output_type": "stream",
     "text": [
      "[0 0 0 0 0 0 0 0 0 0 0 0 0 0 0 0 0 0 0 0 0 0 0 0 0 0 0 0 0 0 0 0 0 0 0 0 0\n",
      " 0 0 0 0 0 0 0 0 0 0 0 0 0 0 0 0 0 0 0 0 0 0 0 0 0 0 0 0 0 0 0 0 0 0 0 0 0\n",
      " 0 0 0 0 0 0 0 0 0 0 0 0 0 0 0 0 0 0 0 0 0 0 0 0 0 0 0 0 0 0 0 0 0 0 0 0 0\n",
      " 0 0 0 0 0 0 0 0 0 0 0 0 0 0 0 0 0 0 0 0 0 0 0 0 0 0 0 0 0 0 0 0 0 0 0 0 0\n",
      " 0 0 0 0 0 0 0 0 0 0 0 0 0 0 0 0 0 0 0 0 0 0 0 0 0 0 0 0 0 0 0 0 0 0 0 0 0\n",
      " 0 0 0 0 0 0 0 0 0 0 0 0 0 0 0 0 0 0 0 0 0 0 0 0 0 0 0 0 0 0 0 0 0 0 0 0 0\n",
      " 0 0 0 0 0 0 0 0 0 0 0 0 0 0 0 0 0 0 0 0 0 0 0 0 0 0 0 0 0 0 0 0 0 0 0 0 0\n",
      " 0 0 0 0 0 0 0 0 0 0 0 0 0 0 0 0 0 0 0 0 0 0 0 0 0 0 0 0 0 0 0 0 0 0 0 0 0\n",
      " 0 0 0 0 0 0 0 0 0 0 0 0 0 0 0 0 0 0 0 0 0 0 0 0 0 0 0 0 0 0 0 0 0 0 0 0 0\n",
      " 0 0 0 0 0 0 0 0 0 0 0 0 0 0 0 0 1 1 1 1 1 1 1 1 1 1 1 1 1 1 1 1 1 1 1 1 1\n",
      " 1 1 1 1 1 1 1 1 1 1 1 1 1 1 1 1 1 1 1 1 1 1 1 1 1]\n",
      "school\n",
      "[0 0 0 0 0 1 1 0 1 1 0 0 1 1 1 0 0 0 1 1 1 1 1 1 0 0 1 1 1 1 1 1 1 1 1 0 1\n",
      " 1 0 0 0 1 1 1 0 0 0 1 1 0 0 0 1 0 0 0 0 1 1 0 0 0 0 0 0 0 1 0 0 0 1 1 0 1\n",
      " 0 1 1 0 1 0 1 1 0 1 0 0 0 0 1 1 0 0 0 0 1 0 1 0 0 0 1 1 1 0 1 0 0 1 1 0 1\n",
      " 0 0 1 1 1 1 1 1 1 0 1 0 1 0 1 0 0 1 1 0 0 0 0 1 0 1 0 1 0 1 1 0 0 1 0 0 0\n",
      " 1 1 1 1 0 1 0 1 1 0 1 1 1 1 1 1 1 1 1 0 0 0 1 1 1 0 0 1 0 1 1 1 1 1 0 0 0\n",
      " 1 1 1 0 1 0 0 1 1 1 0 1 1 0 0 0 0 0 0 0 0 0 0 0 0 0 1 0 1 0 0 0 1 0 0 0 0\n",
      " 0 1 0 0 0 1 1 0 0 1 1 1 1 1 1 0 0 1 1 1 1 1 0 1 1 1 1 1 1 1 1 1 1 1 0 1 1\n",
      " 0 0 1 1 0 0 1 1 0 1 0 0 0 0 1 0 0 0 1 0 1 1 1 0 0 0 1 0 0 1 1 1 0 0 0 1 1\n",
      " 0 0 0 1 0 1 0 0 1 0 1 1 1 0 0 0 1 0 0 0 0 0 0 0 0 0 0 0 0 1 1 1 0 0 1 0 0\n",
      " 0 0 0 0 0 0 0 0 1 1 0 0 0 1 1 0 1 1 1 1 1 1 0 0 0 1 0 0 1 0 0 0 1 1 0 0 0\n",
      " 0 1 0 0 0 0 0 0 0 0 1 1 1 1 1 0 0 0 0 0 1 1 1 1 1]\n",
      "sex\n",
      "[3 2 0 0 1 1 1 2 0 0 0 0 0 0 0 1 1 1 2 1 0 0 1 1 0 1 0 0 1 1 0 0 0 0 1 0 0\n",
      " 1 0 0 1 0 0 0 1 0 1 1 0 0 1 0 0 0 0 1 0 0 0 1 1 1 1 1 0 1 0 1 0 0 1 0 0 1\n",
      " 1 0 0 1 2 1 0 0 0 0 0 0 1 0 1 1 1 0 1 1 0 0 1 1 1 1 1 1 0 0 0 0 0 1 0 1 0\n",
      " 1 1 0 0 1 0 1 2 0 0 0 1 1 1 0 0 4 3 1 0 0 2 1 0 0 2 1 1 0 0 1 0 1 2 0 0 0\n",
      " 1 0 3 1 0 4 2 0 2 3 1 1 2 0 1 2 2 1 1 1 1 1 1 1 2 1 1 2 1 2 1 2 1 1 2 2 1\n",
      " 2 1 1 2 2 1 2 2 1 1 2 2 1 2 1 1 1 2 2 1 2 1 1 1 2 4 2 1 3 2 2 2 3 2 2 2 2\n",
      " 1 3 1 3 2 2 3 2 2 2 2 1 1 1 2 1 2 3 2 2 1 1 3 1 2 7 3 1 3 1 3 1 2 2 2 4 3\n",
      " 2 3 3 3 2 3 3 2 3 3 3 4 3 3 2 2 2 3 3 3 3 2 2 3 3 2 2 3 2 3 3 3 2 3 2 3 2\n",
      " 4 3 3 3 3 2 2 2 4 3 5 4 4 4 4 4 4 4 4 4 3 3 2 3 2 2 2 2 2 3 2 2 2 2 3 2 3\n",
      " 3 3 2 4 2 3 2 4 3 3 2 3 3 3 3 2 3 4 2 3 4 2 3 2 2 3 3 3 3 3 2 2 3 3 2 3 3\n",
      " 4 3 2 2 3 3 5 3 3 2 3 3 2 4 3 3 3 4 3 3 5 2 6 3 4]\n",
      "age\n",
      "[0 0 0 0 0 0 0 0 0 0 0 0 0 0 0 0 0 0 0 0 0 0 0 0 1 0 0 0 0 0 0 0 1 0 0 0 0\n",
      " 1 1 1 0 0 0 0 0 0 0 0 0 0 0 0 0 0 0 0 0 0 0 0 1 0 0 0 0 0 0 0 1 1 0 0 1 0\n",
      " 0 0 0 0 0 0 0 0 0 0 0 0 0 0 0 0 0 0 0 0 0 1 1 0 0 0 0 0 0 0 0 0 0 0 1 0 0\n",
      " 1 0 0 1 0 0 0 1 0 0 0 0 0 0 0 0 0 1 1 1 0 0 0 1 0 1 0 0 0 0 0 0 0 0 0 0 0\n",
      " 0 0 0 0 1 0 0 1 1 1 1 0 1 1 0 0 1 0 0 0 0 0 0 0 0 0 0 0 0 0 1 0 0 0 0 0 0\n",
      " 0 0 0 0 1 0 0 0 1 0 0 0 1 0 0 0 0 0 1 1 0 0 0 0 1 0 0 0 0 1 0 0 0 0 0 1 0\n",
      " 0 0 0 1 0 0 0 0 0 1 0 0 0 0 0 0 1 0 0 1 0 0 0 0 0 0 1 0 0 0 0 1 1 0 0 0 0\n",
      " 0 0 0 1 0 0 1 0 1 0 1 0 0 0 1 0 0 1 0 0 0 0 0 1 0 0 0 0 0 0 0 0 0 0 1 1 0\n",
      " 0 0 0 0 0 0 0 0 0 0 0 0 1 0 0 0 0 0 0 1 0 0 1 0 0 0 1 0 0 0 0 1 0 0 0 1 0\n",
      " 0 1 0 1 0 0 1 0 0 0 0 0 0 1 0 0 1 1 0 0 1 1 0 1 0 0 0 1 1 0 0 1 1 0 1 0 1\n",
      " 0 1 0 1 1 1 0 1 0 1 0 1 0 1 1 1 1 1 0 0 0 0 1 1 0]\n",
      "address\n",
      "[0 0 1 0 0 1 1 0 1 0 0 0 1 0 0 0 0 0 0 1 0 0 1 1 0 0 0 0 1 0 0 0 0 1 0 0 1\n",
      " 0 0 0 1 1 0 0 1 1 1 0 0 0 1 1 1 0 1 0 0 0 1 0 0 0 1 0 1 1 0 0 1 1 0 0 0 0\n",
      " 0 0 0 0 0 0 0 0 1 1 0 0 1 0 0 1 0 0 1 0 1 0 0 0 0 0 0 0 0 0 0 0 0 0 0 1 1\n",
      " 0 0 1 0 0 0 0 0 0 0 0 1 0 0 0 1 0 0 0 0 0 1 0 0 0 0 0 1 0 0 1 0 1 0 0 0 0\n",
      " 0 1 1 1 0 0 0 0 1 0 0 0 1 0 1 0 1 0 0 0 0 0 0 0 1 0 1 1 0 0 0 0 0 0 0 1 0\n",
      " 0 0 1 0 0 0 0 0 0 0 1 0 1 0 1 0 0 0 0 0 0 0 0 0 0 0 1 0 0 1 1 0 1 0 0 0 0\n",
      " 0 0 0 0 0 1 1 0 1 0 0 0 1 0 1 0 0 0 1 1 1 0 0 0 0 0 1 0 0 0 0 0 0 1 1 1 0\n",
      " 1 0 0 0 0 0 1 0 0 0 0 0 0 1 0 0 1 0 0 0 1 1 1 1 0 0 0 0 0 0 1 0 0 1 1 1 0\n",
      " 0 1 0 1 1 1 0 0 0 0 0 0 0 1 1 0 0 1 0 0 0 0 0 0 0 0 1 0 1 0 0 0 0 0 1 0 0\n",
      " 1 0 0 0 0 1 0 0 0 1 0 0 0 0 0 0 0 0 0 1 0 0 0 0 1 1 1 1 1 0 1 0 0 1 0 0 0\n",
      " 1 1 0 0 1 0 0 1 0 0 0 0 0 0 0 0 0 0 1 0 1 1 0 1 1]\n",
      "famsize\n",
      "[0 1 1 1 1 1 1 0 0 1 1 1 1 1 0 1 1 1 1 1 1 1 1 1 1 1 1 1 0 1 1 1 1 1 1 1 1\n",
      " 0 1 1 1 1 1 1 1 0 0 1 1 1 1 1 0 1 0 0 0 1 1 1 1 1 1 1 1 1 0 1 1 1 1 1 1 1\n",
      " 1 1 1 1 1 1 1 1 1 1 1 1 1 1 1 0 1 1 1 1 1 1 1 1 1 1 1 1 1 1 0 0 1 1 1 1 0\n",
      " 1 1 1 1 1 1 1 1 1 1 1 1 1 1 1 0 1 1 1 1 1 1 0 1 1 1 0 1 1 1 1 1 1 1 1 1 1\n",
      " 1 0 1 1 1 1 1 1 1 1 1 1 1 1 1 1 1 1 1 1 1 1 1 1 1 1 1 1 1 1 1 1 1 1 1 1 1\n",
      " 1 1 1 0 1 1 1 1 1 1 1 1 1 1 1 1 1 1 1 1 1 0 1 1 1 1 1 0 1 1 1 1 1 1 1 1 1\n",
      " 1 1 1 1 1 1 1 0 1 1 1 1 1 1 1 1 1 1 1 0 1 1 1 1 1 1 1 1 1 1 1 1 1 1 1 0 1\n",
      " 1 1 1 1 1 1 0 1 1 1 1 1 1 1 1 1 1 0 1 1 1 0 0 1 1 1 1 1 1 1 0 1 1 1 1 1 1\n",
      " 1 1 1 1 0 1 1 1 1 1 0 1 1 1 1 1 1 1 1 1 1 1 1 1 0 1 1 1 1 1 1 1 1 1 1 1 1\n",
      " 1 1 1 0 1 1 0 1 1 1 0 1 1 1 1 1 1 1 1 1 1 1 1 1 0 1 1 0 1 1 1 1 1 1 1 1 1\n",
      " 1 1 1 1 1 1 1 1 1 1 1 1 1 1 1 1 1 1 1 1 0 1 1 1 1]\n",
      "Pstatus\n",
      "[4 1 1 4 3 4 2 4 3 3 4 2 4 4 2 4 4 3 3 4 4 4 4 2 2 2 2 4 3 4 4 4 4 3 3 2 4\n",
      " 4 3 2 2 4 4 2 2 4 3 4 4 4 2 4 4 4 3 2 4 4 1 4 4 1 1 4 4 4 4 3 2 3 3 4 1 3\n",
      " 3 4 4 2 2 3 2 2 3 2 1 4 2 4 2 4 3 4 3 4 2 1 4 2 4 4 4 4 4 3 3 3 2 3 4 4 4\n",
      " 3 2 4 2 4 4 3 1 3 1 2 2 4 2 3 3 0 2 4 3 1 2 3 3 4 3 3 1 4 4 2 4 1 2 1 3 1\n",
      " 4 2 1 2 3 3 4 2 1 1 2 3 2 3 1 1 1 3 2 4 2 4 3 1 4 1 3 4 2 3 4 4 4 3 2 3 3\n",
      " 3 1 2 3 1 2 1 1 3 2 2 4 3 4 4 4 2 1 2 2 3 3 4 1 4 3 4 2 2 4 3 4 3 2 2 2 1\n",
      " 2 2 4 3 3 2 2 2 4 2 4 4 1 3 2 2 2 2 4 4 4 4 2 2 2 3 3 0 3 3 2 2 2 1 4 4 2\n",
      " 2 4 4 3 3 2 3 3 4 4 2 3 2 1 1 2 2 3 4 4 4 4 3 1 1 2 1 2 1 2 4 4 4 2 3 3 3\n",
      " 4 4 4 4 4 4 4 3 3 2 3 4 3 1 1 2 1 3 1 2 2 4 3 4 4 2 2 3 0 4 3 2 4 4 2 2 3\n",
      " 2 2 3 3 3 3 3 2 4 3 2 2 3 4 4 4 3 1 3 1 1 4 3 4 3 1 1 1 1 3 4 1 1 4 1 2 4\n",
      " 3 1 2 1 4 1 4 4 3 3 4 2 2 1 4 2 4 2 3 1 2 3 1 3 1]\n",
      "Medu\n",
      "[4 1 1 2 3 3 2 4 2 4 4 1 4 3 2 4 4 3 2 3 3 4 2 2 4 2 2 2 4 4 4 4 3 3 2 3 3\n",
      " 4 4 2 2 4 4 2 2 3 3 3 2 4 2 2 2 4 3 1 3 4 2 2 4 1 2 3 3 3 4 1 2 1 1 2 1 1\n",
      " 3 3 0 2 1 4 3 3 2 2 1 4 2 2 2 4 3 3 1 2 2 1 3 1 4 3 4 4 4 2 4 3 2 3 4 4 4\n",
      " 3 2 2 1 4 4 3 3 4 2 2 4 4 2 4 4 1 2 4 4 1 2 4 4 4 4 3 1 4 3 2 4 1 1 1 2 2\n",
      " 4 1 1 1 3 2 4 3 2 1 2 3 1 2 2 3 1 2 2 2 2 4 4 0 4 3 3 3 2 3 2 3 3 3 4 3 2\n",
      " 3 2 1 3 2 3 1 2 3 3 4 4 3 4 4 3 3 1 2 2 4 1 3 1 3 3 4 2 2 4 2 3 3 3 2 1 1\n",
      " 3 2 4 1 2 3 1 1 3 2 4 4 1 2 2 1 1 2 3 4 3 4 1 1 3 1 3 2 2 3 1 1 1 1 2 3 1\n",
      " 2 3 3 2 3 2 4 1 4 2 1 3 3 1 2 4 2 2 4 4 3 1 2 1 1 2 1 2 1 1 4 2 3 1 1 2 3\n",
      " 4 3 3 4 4 4 2 2 3 4 2 4 3 1 2 1 2 2 1 3 1 3 4 4 3 2 2 1 2 4 3 2 4 4 2 4 3\n",
      " 2 2 4 1 2 3 2 1 4 4 2 3 2 3 3 3 2 1 3 3 1 3 3 4 2 1 1 4 1 3 4 2 3 4 1 3 4\n",
      " 2 2 2 2 4 1 2 4 3 1 4 1 3 1 2 2 4 3 1 1 2 1 1 2 1]\n",
      "Fedu\n",
      "[0 0 0 1 2 3 2 2 3 2 4 3 1 4 2 1 3 2 3 1 4 1 4 2 3 3 2 1 3 4 1 3 4 2 2 2 4\n",
      " 2 3 0 2 4 3 3 2 2 2 1 4 3 3 1 1 3 2 2 3 4 2 3 1 3 2 4 3 4 2 3 1 2 2 2 2 2\n",
      " 2 4 4 2 2 0 2 2 3 3 2 3 0 2 3 4 2 3 2 4 3 0 3 2 2 2 3 3 3 3 3 2 2 3 2 1 4\n",
      " 3 0 4 1 4 2 2 2 2 0 3 2 1 2 3 2 0 3 4 3 0 2 3 0 3 0 2 3 4 4 3 4 0 2 2 1 0\n",
      " 4 3 2 0 3 3 2 0 2 0 0 2 0 2 2 0 2 3 2 1 2 1 2 2 4 0 2 4 3 2 4 2 4 3 3 2 2\n",
      " 3 3 2 1 0 3 0 0 3 2 3 3 4 3 4 1 2 2 2 3 0 3 4 0 4 2 3 2 3 3 2 2 3 0 0 0 0\n",
      " 3 2 4 2 2 3 0 2 1 2 4 1 2 0 2 2 0 2 1 4 4 3 2 2 2 3 2 2 3 0 3 2 2 1 4 3 2\n",
      " 3 3 4 2 2 0 2 3 4 1 2 2 2 2 0 0 3 2 4 1 4 3 4 0 2 2 2 0 3 3 4 4 1 3 3 3 1\n",
      " 1 2 2 4 1 2 2 1 2 3 3 4 2 0 3 0 2 3 0 2 3 2 0 4 3 2 3 3 0 2 2 3 4 4 2 0 3\n",
      " 2 0 3 3 2 3 2 3 4 3 0 0 2 4 4 1 2 2 1 0 2 3 3 4 3 2 0 0 0 3 0 2 0 4 2 0 2\n",
      " 3 0 2 2 2 2 1 4 2 0 4 2 2 2 2 0 4 3 4 2 3 3 2 3 2]\n",
      "Mjob\n",
      "[4 2 2 3 2 2 2 4 2 2 1 2 3 2 2 2 3 2 3 2 2 1 2 2 1 3 2 3 2 4 3 3 0 2 2 2 3\n",
      " 4 1 2 2 2 4 3 0 2 3 3 2 4 3 2 1 3 2 2 3 1 0 2 4 3 3 1 3 3 3 2 3 2 2 2 2 2\n",
      " 3 2 2 2 2 2 3 2 2 3 2 3 2 2 2 1 2 2 2 3 1 2 2 2 2 0 3 4 2 2 2 1 2 2 2 1 4\n",
      " 2 2 2 3 4 4 3 2 2 3 3 1 2 2 3 2 2 2 4 4 2 2 2 4 0 2 2 2 4 3 3 3 0 2 3 3 2\n",
      " 4 2 2 2 3 0 4 3 2 2 2 3 2 2 2 3 3 3 2 3 2 1 2 2 2 3 2 2 2 2 3 2 2 2 3 2 2\n",
      " 3 3 2 2 2 3 3 3 3 2 3 4 2 4 4 2 2 2 2 3 3 2 2 2 2 2 2 2 2 2 2 2 1 2 0 3 2\n",
      " 4 2 3 2 2 3 2 2 2 2 4 2 2 2 2 2 3 3 2 2 2 3 2 2 2 3 3 2 2 2 3 2 2 2 3 0 2\n",
      " 3 2 2 2 2 3 2 2 2 2 2 3 3 2 0 1 2 3 3 1 3 2 3 2 2 2 2 0 4 3 4 2 3 0 2 2 2\n",
      " 2 2 2 4 2 4 2 1 2 0 2 3 3 2 3 2 3 2 1 2 2 2 3 2 3 2 3 3 0 2 3 2 3 4 2 2 3\n",
      " 2 2 2 0 2 3 2 3 3 2 0 2 3 3 2 2 2 3 2 3 2 2 3 3 2 3 3 2 2 3 0 3 2 3 3 3 4\n",
      " 3 3 0 2 2 2 2 3 2 2 4 2 3 3 2 2 0 2 3 2 3 3 2 2 0]\n",
      "Fjob\n",
      "[0 0 2 1 1 3 1 1 1 1 3 3 0 0 1 1 3 3 0 1 3 2 0 3 0 1 1 2 1 1 1 3 0 0 1 2 1\n",
      " 3 0 3 1 1 0 0 0 0 1 3 1 2 0 2 2 0 2 2 3 3 1 0 2 0 3 1 3 0 3 0 3 3 3 0 3 3\n",
      " 1 1 0 3 1 0 0 1 3 1 1 3 0 3 3 3 1 3 1 1 3 1 3 0 3 0 2 2 0 1 0 3 0 1 1 2 0\n",
      " 3 1 0 3 0 3 1 0 3 0 1 0 0 1 1 1 0 3 0 0 0 0 0 0 0 0 0 0 0 0 3 0 0 1 0 1 0\n",
      " 0 0 0 0 3 1 0 0 3 0 0 0 0 0 0 0 0 0 0 1 1 3 0 3 3 1 3 0 3 3 2 0 1 1 3 3 3\n",
      " 2 2 0 3 1 0 0 2 3 1 0 1 1 1 3 1 3 0 3 3 1 0 2 1 3 3 1 3 1 2 3 3 1 1 0 3 3\n",
      " 2 1 1 3 0 3 0 0 3 0 3 3 1 3 1 1 0 3 0 0 0 0 0 0 0 2 0 2 0 3 2 0 0 0 3 3 1\n",
      " 0 1 0 0 1 1 3 2 3 3 3 1 3 1 1 3 0 1 1 3 0 1 1 3 1 0 3 2 3 3 3 1 3 3 3 3 1\n",
      " 3 1 3 1 1 1 3 3 1 3 0 3 3 3 1 2 0 3 1 3 0 0 0 0 0 0 0 0 1 0 3 0 0 0 0 0 1\n",
      " 1 0 0 1 1 1 1 1 1 1 1 0 2 0 0 3 0 1 0 0 1 1 0 2 3 1 0 0 2 2 0 0 0 2 3 0 2\n",
      " 1 2 1 0 3 1 0 0 1 3 1 2 1 2 1 2 3 0 0 0 0 0 0 0 0]\n",
      "reason\n",
      "[1 0 1 1 0 1 1 1 1 1 1 0 0 1 2 1 1 1 1 0 1 0 1 1 1 1 1 1 1 1 1 1 1 1 1 0 1\n",
      " 1 1 1 1 2 0 0 0 1 1 1 1 0 1 1 0 1 1 1 1 1 0 1 1 0 0 1 0 1 1 1 1 0 0 1 1 1\n",
      " 1 1 1 1 1 1 0 1 1 1 0 0 1 1 0 1 1 1 0 1 1 1 1 1 1 1 1 0 1 1 1 0 1 0 0 1 1\n",
      " 0 1 1 1 0 0 0 0 0 1 0 0 1 1 0 1 2 1 1 0 1 0 0 1 1 1 2 1 1 0 0 1 1 1 0 0 1\n",
      " 1 1 1 1 2 1 1 1 1 1 1 0 1 1 1 0 1 1 0 0 1 1 0 1 1 1 1 1 1 0 1 1 1 1 0 1 1\n",
      " 1 1 1 1 1 1 1 2 1 0 0 1 0 1 1 1 1 1 1 1 1 1 1 1 1 2 1 1 1 1 1 1 0 0 1 1 1\n",
      " 1 1 1 1 1 0 1 1 0 0 1 0 1 1 0 1 1 0 1 1 1 1 2 1 0 1 1 1 1 2 1 1 1 1 1 1 1\n",
      " 0 0 1 1 1 1 1 1 1 0 1 2 0 1 1 1 1 1 1 0 1 1 1 1 1 1 0 1 1 1 1 1 1 1 1 1 1\n",
      " 2 2 0 1 1 0 1 0 2 2 2 2 0 2 2 2 2 2 2 2 1 1 0 1 1 1 1 0 0 1 1 1 1 1 1 0 1\n",
      " 2 1 1 2 1 1 1 2 0 1 0 1 1 1 1 1 1 2 1 1 2 1 0 0 1 0 0 1 1 1 1 0 1 1 1 0 0\n",
      " 2 0 1 1 1 1 2 1 1 1 0 1 0 1 0 1 1 1 1 1 2 1 2 1 0]\n",
      "guardian\n",
      "[2 1 1 1 1 1 1 2 1 1 1 3 1 2 1 1 1 3 1 1 1 1 1 2 1 1 1 1 1 1 1 2 1 1 1 2 1\n",
      " 2 1 1 2 1 1 1 2 1 1 1 1 1 3 1 2 1 1 1 1 1 1 1 1 4 1 1 1 3 1 1 2 2 2 1 1 1\n",
      " 1 1 2 1 2 1 1 1 1 2 1 2 1 1 2 1 1 1 1 2 1 2 2 1 1 1 1 1 1 2 1 1 1 1 4 1 1\n",
      " 1 1 1 1 1 2 2 3 1 1 1 2 1 1 1 1 1 1 1 2 3 1 1 4 1 3 2 1 2 2 2 1 1 1 1 1 1\n",
      " 1 4 1 1 2 1 1 1 1 3 3 1 2 2 2 1 4 2 1 1 1 1 3 2 1 1 2 2 2 1 1 1 1 1 1 1 1\n",
      " 1 1 1 1 1 1 1 2 1 2 1 1 3 2 1 1 1 1 1 2 1 1 1 2 2 1 1 1 1 1 2 1 1 2 1 2 1\n",
      " 1 2 1 1 1 1 4 2 1 2 1 1 2 2 1 1 3 1 2 2 1 1 2 3 2 1 1 1 2 3 1 2 1 2 1 1 1\n",
      " 1 1 1 1 1 1 2 1 2 1 2 1 1 2 1 2 2 2 2 1 2 2 1 2 2 1 1 1 1 1 1 1 1 1 2 2 1\n",
      " 2 2 1 1 1 2 2 1 1 1 1 2 1 1 1 3 1 2 1 1 2 1 1 1 1 1 1 1 2 1 1 4 1 2 1 1 1\n",
      " 1 2 1 1 1 1 1 1 1 1 1 1 1 1 1 1 2 3 2 1 3 2 1 2 2 2 2 3 2 2 1 2 2 2 3 2 3\n",
      " 2 3 1 1 2 4 2 1 1 1 1 2 2 2 2 2 3 1 1 2 1 2 1 3 1]\n",
      "traveltime\n",
      "[2 2 2 3 2 2 2 2 2 2 2 3 1 2 3 1 3 2 1 1 2 1 2 2 3 1 1 1 2 2 2 2 2 2 1 1 3\n",
      " 3 3 1 2 1 2 1 2 2 2 4 2 2 2 2 1 1 1 2 2 2 2 2 2 1 2 3 2 2 4 4 2 4 4 4 2 1\n",
      " 2 2 4 4 1 2 1 3 2 2 2 2 2 3 2 2 3 1 2 2 4 4 1 2 1 3 1 3 1 2 2 4 4 3 4 3 1\n",
      " 3 2 1 2 2 2 1 2 1 2 4 2 1 2 1 2 2 1 1 3 1 1 1 2 3 2 1 2 1 4 1 3 1 1 2 2 2\n",
      " 1 1 1 1 3 1 1 2 1 1 1 2 1 2 1 1 2 1 2 2 2 2 1 2 2 2 2 2 2 2 1 2 2 2 2 2 2\n",
      " 2 1 2 2 2 2 2 2 1 1 2 1 1 1 2 2 2 2 1 4 3 2 2 1 3 4 2 2 2 1 2 2 2 1 3 2 3\n",
      " 2 2 3 2 2 2 2 3 2 2 2 2 2 3 2 1 2 2 2 2 1 1 3 1 1 1 2 1 1 2 1 1 1 1 4 2 2\n",
      " 4 2 2 3 3 3 2 2 2 2 2 2 4 2 2 2 2 2 1 2 1 1 1 4 2 2 2 3 3 3 2 2 3 2 4 3 1\n",
      " 2 2 4 1 2 1 3 4 2 2 1 1 2 2 2 2 2 2 3 3 2 3 3 2 2 2 3 3 3 3 1 1 3 3 4 3 2\n",
      " 2 4 3 3 2 4 2 3 2 2 2 3 3 3 3 3 1 2 2 1 1 2 2 2 2 1 3 2 2 2 2 2 2 3 1 1 2\n",
      " 2 1 3 1 3 3 3 2 2 2 2 1 2 1 1 3 1 3 2 2 2 1 1 1 1]\n",
      "studytime\n",
      "[0 0 3 0 0 0 0 0 0 0 0 0 0 0 0 0 0 0 3 0 0 0 0 0 0 2 0 0 0 0 0 0 0 0 0 0 0\n",
      " 0 0 0 1 0 0 0 1 0 0 0 0 1 0 0 1 0 0 0 0 0 0 0 0 0 0 0 0 0 0 0 0 0 0 0 2 0\n",
      " 0 0 0 0 3 0 0 0 0 0 0 2 0 0 1 0 0 0 0 0 0 1 0 0 0 0 0 0 0 0 0 0 0 0 0 0 0\n",
      " 1 1 0 0 0 0 0 1 0 0 0 0 0 0 0 0 3 2 0 2 0 0 0 0 0 0 2 1 0 0 2 0 0 3 0 3 0\n",
      " 0 3 3 1 2 3 0 0 0 3 0 1 2 2 1 0 3 1 0 0 0 0 2 0 0 3 0 0 0 0 0 0 0 0 0 0 0\n",
      " 0 0 0 0 0 0 0 0 0 0 0 0 0 1 0 0 0 0 0 0 1 3 0 0 0 0 0 0 1 0 0 2 1 0 0 0 1\n",
      " 0 0 0 1 0 0 0 0 0 0 0 0 0 0 0 0 0 1 0 0 0 0 0 0 0 3 1 0 1 0 1 0 0 1 0 0 0\n",
      " 0 0 0 0 0 0 0 0 0 0 0 2 0 0 0 0 0 0 0 1 0 0 1 0 0 0 0 0 0 0 0 0 0 1 0 0 0\n",
      " 0 0 0 0 0 0 0 0 1 1 0 1 1 1 1 0 1 1 2 1 0 0 0 0 0 0 0 0 0 0 0 0 0 0 0 0 0\n",
      " 0 0 0 1 0 0 0 1 1 0 1 0 0 0 0 0 1 3 0 1 1 0 0 0 0 0 0 0 1 0 0 0 0 0 1 0 0\n",
      " 2 0 0 0 0 0 2 0 0 0 0 0 0 1 1 0 0 1 0 1 2 0 3 0 0]\n",
      "failures\n",
      "[0 1 0 1 1 1 1 0 1 1 1 1 1 1 1 1 1 0 1 1 1 1 1 1 0 1 1 1 0 1 1 1 1 1 1 1 1\n",
      " 1 0 0 1 1 1 0 0 0 1 1 1 0 1 1 1 0 1 1 1 1 0 1 1 0 0 0 0 1 1 0 0 1 1 1 0 1\n",
      " 0 1 1 1 0 1 0 0 1 1 1 1 1 1 1 1 1 1 0 1 1 0 0 1 1 0 0 1 1 0 1 0 0 1 1 1 1\n",
      " 0 0 1 1 1 1 1 1 1 1 1 1 1 1 0 0 1 1 1 1 1 1 1 1 1 1 1 1 1 0 1 1 1 1 1 1 1\n",
      " 1 1 1 1 1 1 0 0 1 1 1 1 1 0 1 1 1 1 1 1 1 1 1 1 1 1 1 1 1 1 1 1 1 1 1 1 1\n",
      " 1 1 1 1 1 1 1 1 1 1 1 1 1 1 1 1 0 1 1 1 1 1 1 1 1 1 1 0 1 1 1 1 1 1 1 1 1\n",
      " 0 1 1 1 1 1 0 1 1 1 0 1 1 1 1 1 1 1 1 1 1 1 1 1 1 1 1 1 1 0 1 1 1 1 1 1 1\n",
      " 1 1 1 1 1 1 1 1 1 1 1 1 1 1 1 1 0 1 1 0 1 1 1 1 0 1 1 1 1 1 1 1 1 1 1 1 1\n",
      " 1 1 1 1 1 1 1 1 1 1 1 1 1 0 1 1 1 1 1 1 1 1 1 1 1 1 1 1 1 1 1 1 1 1 1 1 1\n",
      " 1 1 1 1 1 1 1 1 1 1 1 1 1 1 1 1 1 1 1 1 1 1 1 1 1 1 1 1 1 1 1 1 1 1 1 1 1\n",
      " 1 1 1 1 1 1 1 1 1 1 1 1 1 1 1 1 1 1 1 1 1 1 1 1 1]\n",
      "schoolsup\n",
      "[0 1 0 1 1 1 0 1 1 1 1 1 1 1 1 1 1 1 1 0 0 1 0 1 1 1 1 0 1 1 1 1 1 0 1 1 1\n",
      " 1 1 1 1 1 1 1 0 1 1 0 1 1 1 1 0 1 0 0 1 1 1 1 1 1 0 1 0 1 1 1 1 1 1 0 1 0\n",
      " 1 1 0 0 1 1 1 0 1 0 1 0 1 1 0 1 1 0 1 1 1 1 1 1 0 1 1 1 1 1 1 0 1 1 1 1 0\n",
      " 1 0 0 0 1 1 0 1 0 0 1 1 1 0 0 0 1 1 0 1 1 1 0 1 1 0 1 0 0 1 1 1 0 1 1 1 1\n",
      " 1 0 0 0 1 1 1 0 0 1 0 1 0 1 0 0 0 1 0 0 1 1 1 1 1 0 1 0 0 0 1 1 1 0 1 1 1\n",
      " 1 1 0 1 0 0 0 0 1 0 0 0 1 1 1 1 1 1 1 1 1 1 0 1 1 1 1 1 1 1 0 0 1 1 1 1 1\n",
      " 0 1 1 0 0 1 1 0 0 1 1 1 1 0 0 0 0 0 0 1 0 0 1 0 0 0 1 0 0 1 0 0 0 1 1 1 0\n",
      " 0 1 1 0 0 1 1 0 0 1 1 1 1 1 1 1 1 0 0 1 0 0 0 1 0 1 0 1 1 0 1 1 1 0 1 1 1\n",
      " 1 1 1 1 1 0 1 1 1 1 0 1 0 1 0 1 0 1 0 0 1 1 1 1 1 1 1 1 0 0 0 1 1 1 1 1 0\n",
      " 0 0 0 0 1 1 1 0 1 0 1 1 0 0 1 1 1 0 1 0 1 1 1 1 0 0 0 0 0 1 1 0 1 0 1 1 1\n",
      " 0 1 0 0 0 0 1 0 0 1 0 0 0 0 0 0 1 0 1 0 1 0 0 0 0]\n",
      "famsup\n",
      "[1 1 0 0 0 0 1 1 0 0 0 1 0 0 1 1 0 1 1 0 1 0 1 1 0 0 0 0 1 0 0 1 1 1 0 1 1\n",
      " 1 0 0 1 1 1 1 1 0 1 1 0 1 0 0 1 0 0 0 0 1 1 1 1 1 1 0 1 1 1 0 0 1 0 1 1 1\n",
      " 0 0 1 0 1 1 0 0 0 0 1 0 1 1 0 1 0 0 1 0 1 0 1 0 1 0 0 1 1 0 0 1 0 1 0 0 1\n",
      " 1 1 1 1 1 1 1 1 1 1 0 0 1 0 1 1 1 1 0 1 1 1 1 1 1 1 1 1 1 1 1 0 1 1 0 1 0\n",
      " 1 1 1 1 0 1 1 0 1 1 1 0 1 1 1 1 1 1 1 0 0 0 1 0 0 1 0 0 0 1 1 1 0 0 1 1 0\n",
      " 1 0 0 1 1 1 1 0 1 1 1 1 0 1 0 1 0 0 1 0 0 0 0 0 0 0 0 0 0 0 0 0 0 0 0 1 1\n",
      " 1 0 1 1 1 0 0 1 1 0 1 0 0 1 0 1 1 1 1 0 1 1 0 1 1 1 1 0 1 1 1 1 1 1 0 1 1\n",
      " 0 0 0 1 1 0 0 0 0 0 1 0 0 0 0 0 0 1 0 1 0 0 1 0 1 1 0 0 0 0 0 0 0 1 0 0 0\n",
      " 0 0 0 0 1 0 0 0 1 0 1 0 1 1 1 1 1 0 1 1 0 0 0 0 0 1 0 1 1 1 1 1 0 0 1 1 1\n",
      " 1 1 1 0 0 1 0 0 1 1 1 1 1 1 0 0 1 1 0 1 1 0 1 0 1 1 1 1 1 1 0 1 0 0 0 0 0\n",
      " 1 0 1 1 1 1 0 0 0 0 0 1 1 1 0 0 0 1 0 1 0 1 1 1 1]\n",
      "paid\n",
      "[1 1 1 0 1 0 1 1 1 0 1 0 0 1 1 1 0 0 0 0 1 1 0 0 0 1 1 1 0 0 1 0 0 0 1 0 0\n",
      " 0 0 0 0 1 0 1 0 0 1 0 1 0 1 1 1 1 1 0 0 0 0 1 0 0 0 0 0 0 0 1 1 1 1 1 1 0\n",
      " 0 0 0 1 0 1 0 1 1 0 0 1 1 0 0 1 1 0 1 0 0 0 0 1 0 1 0 0 0 1 0 1 1 0 0 0 0\n",
      " 0 0 1 0 0 0 0 0 1 1 0 0 0 1 1 0 1 0 0 1 0 1 1 1 0 1 0 1 0 1 0 0 1 1 1 1 1\n",
      " 1 1 1 0 0 1 1 0 1 0 1 1 0 1 0 1 0 0 1 1 1 1 0 0 0 0 0 0 0 0 0 0 0 0 0 0 1\n",
      " 0 0 0 1 1 1 0 0 0 1 0 1 0 1 1 0 0 1 1 0 1 1 0 1 0 0 1 1 0 1 1 1 1 1 0 0 0\n",
      " 1 1 0 0 0 1 0 0 0 0 0 0 1 0 0 1 0 1 0 1 0 0 1 1 1 1 1 1 1 1 1 0 1 0 0 1 0\n",
      " 0 1 1 0 0 0 0 0 0 0 1 0 0 1 0 1 1 1 0 0 0 0 1 0 0 1 1 1 1 0 0 0 1 1 1 0 1\n",
      " 0 1 1 1 1 1 1 0 0 0 0 1 0 0 0 1 1 1 1 1 0 0 0 1 1 1 0 1 1 0 0 1 0 1 0 1 0\n",
      " 0 0 1 1 1 1 1 0 0 0 1 1 1 1 1 0 1 1 1 1 1 0 1 0 1 1 1 1 0 1 0 1 1 1 1 1 1\n",
      " 0 0 0 0 1 1 1 0 1 0 0 0 0 1 1 1 0 0 1 0 1 1 1 1 1]\n",
      "activities\n",
      "[0 1 0 0 0 0 0 0 0 0 0 0 0 0 0 0 0 0 0 0 0 0 0 0 0 1 0 0 0 0 1 0 0 1 1 0 0\n",
      " 0 0 0 1 1 0 0 0 0 0 0 0 1 0 0 0 0 0 0 0 0 0 0 0 1 0 0 0 0 1 0 0 1 0 0 1 0\n",
      " 0 0 0 0 0 0 1 1 0 0 1 0 0 0 1 0 0 0 0 0 0 0 1 0 1 0 0 0 1 0 0 0 0 0 0 0 0\n",
      " 0 0 0 0 0 0 0 0 0 1 0 0 0 0 0 0 1 0 0 0 1 0 0 0 0 0 1 0 0 0 0 0 0 0 0 0 1\n",
      " 0 0 0 0 0 0 0 0 0 1 1 0 0 0 0 0 0 1 0 0 1 0 1 0 0 1 0 0 1 1 0 0 0 0 0 0 0\n",
      " 0 0 0 1 0 0 0 1 0 0 0 0 0 0 0 0 0 1 0 1 0 0 0 0 0 0 0 0 0 0 0 0 0 0 0 0 0\n",
      " 0 0 1 0 1 1 0 0 0 0 0 0 0 0 1 0 0 0 0 0 1 0 1 0 0 1 0 1 0 1 1 1 1 0 0 0 0\n",
      " 0 0 1 1 1 0 0 0 0 0 0 0 0 1 1 0 0 1 0 0 0 0 0 0 0 1 1 0 0 0 0 0 0 0 0 0 0\n",
      " 0 0 0 0 0 0 0 1 0 0 0 0 0 1 1 0 1 1 1 0 0 0 1 0 0 0 0 1 0 0 1 0 0 1 0 0 0\n",
      " 1 0 0 0 0 0 0 0 0 0 0 0 0 0 0 0 1 0 0 0 0 1 0 0 0 1 0 0 1 0 0 1 0 0 0 0 1\n",
      " 0 0 0 0 0 0 1 0 0 1 1 1 0 0 0 0 0 1 0 0 0 1 1 1 0]\n",
      "nursery\n",
      "[1 1 1 1 1 1 1 1 1 1 1 1 1 1 1 1 1 1 1 1 1 1 1 1 1 1 1 1 1 1 1 1 1 1 1 1 1\n",
      " 1 1 1 1 1 1 1 1 1 1 1 1 1 1 1 1 1 1 1 1 1 1 1 1 1 1 1 1 1 1 1 1 1 1 1 1 1\n",
      " 1 1 1 1 0 1 1 1 1 1 1 1 1 1 1 1 1 1 1 1 1 1 1 1 1 1 1 1 1 1 1 1 1 1 1 1 1\n",
      " 1 1 1 1 1 1 1 1 1 1 1 1 1 1 1 1 0 1 1 1 1 1 1 1 1 1 1 1 1 1 1 1 1 1 1 1 1\n",
      " 0 1 0 1 1 0 1 1 1 1 1 1 0 1 1 0 0 0 0 1 1 1 1 1 1 1 1 1 1 1 1 1 1 1 1 1 1\n",
      " 1 1 1 1 1 1 1 1 1 1 1 1 1 1 1 1 1 1 1 1 1 1 1 1 1 1 1 1 1 1 1 1 1 1 1 1 1\n",
      " 1 1 1 1 1 1 1 1 1 1 1 1 1 1 1 1 1 0 1 1 1 1 1 1 1 0 1 1 0 1 0 1 1 1 1 1 1\n",
      " 1 1 1 1 1 1 1 1 1 1 0 1 1 1 1 1 1 0 1 1 1 1 1 1 1 1 1 1 1 1 1 1 1 1 1 1 1\n",
      " 1 1 1 1 1 1 1 1 1 1 1 1 1 1 1 0 1 1 1 1 1 1 1 1 1 1 1 1 1 1 1 1 1 1 1 1 1\n",
      " 1 1 1 1 1 1 1 1 1 1 1 1 1 1 1 1 1 1 1 0 1 1 1 1 1 1 1 1 0 1 1 1 1 1 1 1 1\n",
      " 1 0 1 1 1 1 1 1 1 1 1 1 1 1 1 1 1 1 1 1 1 1 1 1 1]\n",
      "higher\n",
      "[0 1 1 1 0 1 1 0 1 1 1 1 1 1 1 1 1 0 1 1 1 1 1 1 1 1 1 1 1 1 1 1 1 1 1 0 1\n",
      " 1 1 0 1 1 1 1 1 1 1 1 0 1 1 1 0 1 1 1 1 0 1 1 0 1 1 1 1 1 1 1 1 1 1 1 1 0\n",
      " 1 1 1 1 1 1 1 1 1 1 1 1 0 1 1 0 1 1 0 1 1 1 1 0 1 1 1 1 1 1 1 0 1 1 1 1 1\n",
      " 1 1 1 1 1 0 1 1 1 1 1 1 1 1 1 1 0 1 1 1 1 1 1 0 1 0 1 0 1 1 1 1 1 1 1 1 1\n",
      " 1 1 1 0 1 1 0 0 0 0 0 1 1 1 0 1 0 0 1 1 1 1 1 1 1 1 1 1 1 1 1 1 1 1 0 1 1\n",
      " 1 1 1 1 0 1 1 1 1 1 1 1 1 1 1 1 0 0 1 1 1 1 1 0 1 1 1 1 1 0 1 1 1 0 1 1 0\n",
      " 1 1 1 1 1 1 1 1 1 1 1 1 1 1 1 1 0 1 1 1 1 1 1 1 1 1 1 1 1 1 1 0 1 1 1 1 1\n",
      " 1 1 1 0 0 1 1 1 1 1 1 1 1 0 0 1 1 1 1 1 1 1 1 0 1 1 1 1 1 1 1 1 1 1 0 1 1\n",
      " 1 1 1 1 1 1 1 1 1 1 0 1 0 1 0 1 1 1 1 1 1 1 1 1 1 0 1 1 1 1 1 1 1 1 1 1 1\n",
      " 1 0 1 0 1 1 1 1 1 1 1 1 1 1 1 1 1 1 1 1 1 1 0 1 0 1 1 0 0 1 1 0 0 1 1 1 1\n",
      " 0 1 0 1 1 1 1 1 1 1 1 1 1 0 0 0 1 1 1 0 0 1 0 1 1]\n",
      "internet\n",
      "[0 0 0 1 0 0 0 0 0 0 0 0 0 0 1 0 0 0 0 0 0 0 0 0 0 0 0 0 0 1 0 0 1 0 0 0 0\n",
      " 1 0 0 1 1 0 0 0 1 0 0 0 0 0 0 0 0 0 1 0 0 0 0 0 1 0 0 1 0 1 0 0 0 0 0 1 0\n",
      " 0 0 0 1 0 0 1 0 0 0 0 1 0 0 0 0 1 0 0 0 0 0 0 1 0 0 0 1 0 0 0 0 0 0 1 1 0\n",
      " 0 0 0 1 0 0 0 0 0 0 0 1 0 1 0 1 0 0 0 1 1 1 0 1 1 0 1 1 0 0 0 0 0 0 0 0 0\n",
      " 1 0 1 1 1 1 1 0 0 0 0 1 1 1 0 0 1 0 0 1 0 1 0 1 0 1 0 0 0 0 1 1 0 1 0 1 0\n",
      " 1 1 1 1 0 0 0 0 0 0 1 0 0 0 0 0 0 0 0 0 1 0 1 0 1 0 1 0 0 0 0 1 0 0 0 0 1\n",
      " 0 0 0 1 0 0 1 1 1 0 1 0 0 1 1 1 0 0 1 0 0 0 1 0 0 1 1 0 0 0 0 0 0 0 0 0 0\n",
      " 1 1 0 0 0 1 0 1 0 1 1 0 1 0 1 1 1 1 0 1 0 1 0 0 0 0 0 0 0 0 0 1 0 1 0 0 0\n",
      " 0 1 0 1 1 0 0 0 1 0 0 1 1 0 1 1 0 1 1 1 0 1 0 0 1 1 0 0 0 0 0 0 0 1 0 1 0\n",
      " 1 0 0 0 1 0 0 1 0 1 1 0 1 1 1 1 0 0 0 1 0 1 1 0 1 1 0 1 0 1 1 0 0 1 1 1 1\n",
      " 1 1 1 0 0 0 1 0 1 0 0 1 0 0 0 0 1 0 0 0 0 0 0 0 0]\n",
      "romantic\n",
      "[4 5 4 3 4 5 4 4 4 5 3 5 4 5 4 4 3 5 5 3 4 5 4 5 4 1 4 2 5 4 5 4 4 5 5 3 5\n",
      " 2 4 4 3 5 4 5 4 5 2 4 4 4 4 4 5 3 5 5 4 3 4 4 2 5 4 3 4 5 1 4 4 4 4 3 3 5\n",
      " 4 4 3 5 4 2 3 5 4 5 4 4 4 5 4 4 4 4 3 5 4 3 3 4 5 5 4 4 5 4 5 4 5 5 1 5 5\n",
      " 4 3 3 5 5 4 5 5 3 3 5 4 3 5 5 5 3 3 3 4 4 3 3 5 4 5 4 4 4 2 2 4 3 5 4 3 4\n",
      " 3 4 2 4 4 4 4 4 2 5 4 4 3 4 4 5 5 4 4 4 5 4 3 4 4 4 4 4 3 4 4 5 3 4 5 5 1\n",
      " 4 3 4 3 3 4 5 4 4 5 4 5 3 4 4 4 4 4 5 5 4 2 1 4 4 4 5 3 4 5 4 3 3 3 4 4 4\n",
      " 2 3 5 5 5 5 4 3 3 4 4 4 3 5 4 4 2 5 2 3 5 5 4 4 5 5 4 4 4 5 3 3 4 4 4 4 5\n",
      " 3 3 4 5 3 4 4 5 4 5 4 4 4 4 3 4 4 4 3 2 4 4 4 5 5 5 4 4 4 4 5 4 4 5 3 5 4\n",
      " 2 4 4 1 4 4 4 5 4 4 5 4 4 4 4 3 4 4 4 4 5 4 4 4 5 4 3 3 3 4 4 4 5 4 4 4 5\n",
      " 4 4 4 5 4 5 4 4 4 4 3 4 5 5 5 4 2 5 4 4 4 4 5 4 1 3 5 4 4 4 2 3 3 4 5 5 3\n",
      " 3 4 3 3 5 4 5 5 4 4 3 4 4 4 5 5 4 5 4 1 5 2 5 4 3]\n",
      "famrel\n",
      "[3 3 3 2 3 4 4 1 2 5 3 2 3 4 5 4 2 3 5 1 4 4 5 4 3 2 2 2 3 4 4 3 5 3 4 5 4\n",
      " 4 3 3 3 4 3 4 3 2 3 2 3 4 3 3 5 3 3 3 3 2 3 2 4 5 4 4 4 4 3 3 1 4 3 3 3 3\n",
      " 3 3 4 2 5 4 2 3 4 3 3 4 3 3 4 1 3 5 3 3 3 1 3 3 3 3 5 4 3 3 4 3 1 3 3 4 5\n",
      " 1 1 5 4 4 4 4 2 4 2 5 2 4 4 5 3 4 3 5 2 3 4 2 3 3 4 3 4 3 2 3 2 4 4 4 3 3\n",
      " 3 5 3 4 2 5 2 4 2 2 2 5 3 4 4 3 3 5 3 2 1 4 4 3 4 3 4 4 4 3 3 2 4 2 4 3 2\n",
      " 3 3 2 3 1 3 3 4 3 3 3 2 3 2 5 3 4 4 3 3 4 3 3 3 4 3 3 3 4 2 4 4 2 3 3 2 3\n",
      " 3 3 3 3 3 3 3 2 2 5 5 2 4 3 4 5 1 5 5 3 4 3 4 3 2 4 3 3 4 3 2 3 4 4 2 3 2\n",
      " 4 1 3 3 2 3 2 4 3 4 3 3 5 4 5 3 4 1 2 4 2 5 4 2 4 4 3 3 3 2 4 3 2 4 1 4 4\n",
      " 3 4 3 4 2 1 3 2 4 4 5 3 5 4 2 4 5 2 1 1 3 3 3 4 2 2 3 4 3 3 3 4 4 3 5 4 3\n",
      " 3 4 4 4 3 3 3 3 3 3 3 3 4 3 4 4 5 4 5 3 4 5 3 3 2 3 3 3 4 3 3 2 3 2 2 2 2\n",
      " 2 3 4 5 4 3 4 4 1 5 2 4 4 3 4 3 4 4 3 1 5 4 5 4 2]\n",
      "freetime\n",
      "[4 3 2 2 2 2 4 4 2 1 3 2 3 3 2 4 3 2 5 3 1 2 1 4 2 2 2 4 3 5 2 1 2 2 3 1 3\n",
      " 3 2 1 3 3 3 1 3 2 5 2 3 4 3 3 5 4 4 4 2 2 2 3 4 5 3 4 4 3 3 3 3 2 2 3 4 2\n",
      " 3 3 3 3 1 3 2 2 4 3 2 4 4 3 2 3 3 5 3 3 4 2 3 5 4 5 5 3 3 5 4 3 2 3 5 5 3\n",
      " 2 2 2 2 4 3 2 4 3 3 4 2 4 4 5 2 2 3 5 2 3 4 1 3 3 5 2 4 2 2 3 2 4 5 2 2 2\n",
      " 2 5 5 4 1 4 1 4 2 5 2 5 2 4 4 3 5 2 5 3 5 2 5 2 4 5 5 4 4 4 3 3 3 3 2 3 2\n",
      " 4 3 3 3 3 3 3 4 2 3 2 3 4 4 2 5 3 4 2 5 3 3 2 2 2 3 5 4 4 1 4 5 4 3 3 5 4\n",
      " 1 3 2 3 4 3 2 3 3 2 5 4 2 3 2 2 1 4 5 3 5 2 4 3 2 5 3 2 5 3 5 2 2 4 3 1 4\n",
      " 1 2 2 2 3 3 5 4 4 5 5 5 5 3 2 3 4 1 4 4 3 4 4 2 4 5 3 3 3 4 3 2 2 3 2 2 3\n",
      " 4 5 3 2 4 1 3 2 4 3 3 4 3 3 4 1 2 2 2 2 3 4 4 4 2 2 2 3 3 3 5 5 4 3 5 3 4\n",
      " 3 4 5 3 2 3 3 4 3 3 1 3 3 2 5 3 5 4 4 3 4 5 4 3 3 2 2 4 3 2 4 2 4 2 1 3 2\n",
      " 2 3 3 5 4 2 3 3 3 4 4 3 3 2 3 3 3 2 4 1 4 5 3 1 3]\n",
      "goout\n",
      "[1 1 2 1 1 1 1 1 1 1 1 1 1 1 1 1 1 1 2 1 1 1 1 2 1 1 1 2 1 5 3 1 1 1 1 1 1\n",
      " 1 1 1 1 2 1 1 2 1 1 1 2 1 2 1 3 2 4 1 1 1 1 1 2 5 1 2 2 1 5 1 1 2 1 1 2 2\n",
      " 2 2 1 1 1 1 1 1 1 1 2 2 1 1 1 3 1 1 2 1 1 1 1 1 1 1 5 1 1 1 1 1 1 1 3 1 1\n",
      " 1 1 1 1 1 1 1 1 1 1 1 1 1 1 3 1 1 1 2 2 1 1 1 1 1 2 1 1 1 1 2 1 3 1 1 1 1\n",
      " 2 2 2 3 2 1 1 1 3 1 1 4 2 1 2 1 1 1 2 1 1 1 2 1 1 1 1 4 1 1 3 1 2 1 2 2 1\n",
      " 2 1 1 1 1 1 1 4 3 1 1 1 3 2 1 1 1 1 1 1 3 2 1 1 1 1 4 1 2 1 1 2 2 1 1 1 1\n",
      " 1 5 1 1 1 1 4 1 1 1 1 2 1 1 5 1 1 3 1 2 1 1 1 1 1 5 1 2 2 1 2 1 2 1 1 1 1\n",
      " 1 1 1 1 1 1 3 3 2 1 1 3 1 1 2 1 2 1 1 1 1 2 3 1 1 1 1 1 1 1 1 1 1 1 1 1 1\n",
      " 2 1 1 2 1 2 1 1 1 1 1 1 1 1 2 1 2 1 1 1 1 1 2 3 1 1 2 2 2 2 3 5 1 1 2 1 1\n",
      " 1 1 1 1 2 1 2 1 2 1 1 1 2 1 2 1 5 3 2 2 3 1 1 1 1 1 1 1 2 1 1 1 2 2 1 1 4\n",
      " 1 2 1 1 1 1 1 3 1 2 1 1 1 1 4 1 2 1 1 1 4 3 3 3 3]\n",
      "Dalc\n",
      "[1 1 3 1 2 2 1 1 1 1 2 1 3 2 1 2 2 1 4 3 1 1 3 4 1 3 2 4 1 5 4 1 1 1 1 1 1\n",
      " 1 1 1 2 4 1 1 2 1 4 1 2 1 3 1 4 3 4 1 1 1 1 1 3 5 1 4 4 2 5 2 3 3 1 1 4 2\n",
      " 4 3 1 3 1 2 3 2 1 3 3 3 2 3 1 5 3 3 3 1 1 1 1 1 2 1 5 1 1 1 1 1 1 1 5 1 1\n",
      " 1 1 1 1 2 1 1 4 2 2 2 2 4 1 2 1 1 2 5 2 2 3 4 1 1 4 1 3 1 1 2 1 3 2 2 1 1\n",
      " 1 5 5 5 3 1 1 1 3 5 2 4 2 4 4 4 5 1 4 1 1 1 4 1 3 1 1 4 4 4 4 1 3 2 3 3 2\n",
      " 3 2 2 3 5 1 1 5 4 1 1 2 5 3 2 5 3 3 2 1 4 2 1 4 1 2 5 1 4 2 3 4 4 4 1 2 1\n",
      " 1 5 1 1 3 3 5 2 2 1 3 4 1 3 5 1 1 5 4 3 1 2 1 1 1 5 3 4 4 3 5 3 4 2 1 1 2\n",
      " 1 3 1 1 1 1 4 4 2 3 2 3 3 1 2 1 3 1 4 1 2 4 4 1 1 2 2 2 1 3 1 4 2 1 1 1 3\n",
      " 3 2 1 2 1 2 1 2 1 1 1 1 2 3 2 1 2 2 1 1 2 1 5 3 2 1 2 3 3 2 5 5 3 2 4 1 1\n",
      " 1 1 3 2 3 1 3 3 2 3 2 2 3 2 3 3 5 3 3 3 3 3 1 2 2 2 1 4 3 3 1 2 4 2 2 2 2\n",
      " 1 3 1 3 1 2 1 4 2 3 4 3 1 3 3 3 2 2 1 1 5 4 3 4 3]\n",
      "Walc\n",
      "[3 3 3 5 5 5 3 1 1 5 2 4 5 3 3 2 2 4 5 5 1 5 5 5 5 5 5 1 5 5 5 5 5 2 5 5 4\n",
      " 5 5 2 3 5 5 1 5 5 3 2 5 3 4 5 5 5 1 2 1 5 5 5 4 5 1 4 2 1 3 5 4 3 5 3 5 5\n",
      " 5 5 1 3 3 3 3 5 5 4 4 5 2 1 3 5 4 1 2 1 4 1 4 5 1 3 4 4 5 2 1 4 3 5 1 4 4\n",
      " 2 5 3 5 5 2 5 5 4 1 5 5 5 5 5 1 5 4 4 5 4 5 5 5 5 5 5 5 5 3 2 5 1 5 5 3 5\n",
      " 5 5 4 5 3 4 4 1 5 4 3 5 5 3 5 2 5 2 4 3 4 3 2 3 5 3 4 4 5 4 3 2 3 3 5 1 1\n",
      " 4 3 5 3 3 2 3 5 5 3 5 5 3 2 3 2 4 1 3 5 5 4 1 5 4 3 3 4 5 3 1 1 4 3 4 5 5\n",
      " 3 4 5 4 3 3 3 3 3 1 2 1 5 2 4 5 3 2 5 4 3 5 3 4 2 1 5 5 5 2 5 3 5 5 4 1 4\n",
      " 2 2 3 3 4 3 1 5 4 5 3 5 2 3 1 1 5 5 3 4 1 5 3 3 4 5 4 2 3 2 2 5 3 5 3 4 5\n",
      " 2 2 3 1 4 5 3 5 3 3 5 4 5 3 3 2 4 1 3 3 1 5 5 5 5 3 3 5 2 3 5 4 4 4 5 5 4\n",
      " 2 4 5 5 2 1 2 3 2 5 4 3 1 4 5 4 5 2 3 3 5 2 5 5 5 3 4 5 5 3 1 3 3 5 1 4 5\n",
      " 3 3 3 1 1 4 3 2 1 1 2 5 3 5 3 4 5 5 1 5 4 2 3 5 5]\n",
      "health\n",
      "[ 6  4 10  2  4 10  0  6  0  0  0  4  2  2  0  4  6  4 16  4  0  0  2  0\n",
      "  2 14  2  4  4 16  0  0  0  0  0  0  2  7  2  8 25  8  2  0 14  8 12  4\n",
      "  2  2  2  2  6  0  6  8  0  4  2  2  6  6  4  2  0  2  4  4  2 12  0  0\n",
      "  2  2 54  6  8  0  2 12  2  4 10  4  2  6  4  4 12 18  0  4  4  0  6  2\n",
      "  2  2  6  0 14  0  4 26  0 10  8  2  6  4  6  0  6 10  8  2  2  0 20  6\n",
      "  2  6  2 18  0  0  0  2  0  8  0  0 12 16  0  0  0  0  0  0  0  8  2  2\n",
      "  0  0  0  2  0  0  0  6  8  0  0  2  8  6  2  4  0  6  0  2  0 16  4  0\n",
      "  0  0  0  2  0  0  4  4  2  4 10  4 10  2  0 56 14 12  2  0  6  4 10  0\n",
      " 12  8  0  0  4  8 24  0  2  6  4 18  6 28  5 10  6  6 10 13  0 15 12  2\n",
      " 22 13  3  4  2  0  2  0  0 16 10  2 14 10 14  4 14  2 18 10  4 20  2  0\n",
      " 14  2  0  0  0  6  4 16  8  0  0  6  4  0  0  2  6 12  8  0 21  2  1  4\n",
      "  0 13  2  8 10  0 15  4  2  2  2  6 75 22 15  8 30 19  1  4  4  2  5  6\n",
      "  6  9 11  0 12  6  8  4  0 10  0  5 14  0  0  0 20  8  0 38  0 18  0 20\n",
      "  3 22 14 40  0  9  0  2 23 12  3  1  0  3  3  8  7  4  2  7  0  0  0 16\n",
      " 12  0  7  4  4  0 11  0  4  7  9  0  0 10  8  2  7  4  4  0  4  2  4  0\n",
      "  0  2  0  0  0  4  0  0  0 10  4  3  8 14  0  2  4  4  0 17  4  5  2  0\n",
      " 14  2  7  0  0  0 11  3  3  0  5]\n",
      "absences\n",
      "[ 5  5  7 15  6 15 12  6 16 14 10 10 14 10 14 14 13  8  6  8 13 12 15 13\n",
      " 10  6 12 15 11 10  9 17 17  8 12  8 15 15 12 14  7 12 19  8 10  8 11 19\n",
      " 15  7 12 11 11  8 10  8 14 14  9 15 10 10  8 10 10 16 13  7  8 16 13 10\n",
      "  8 12 11  9 11 11  8  5 10 11  7 15  9  7  8 13 11  8  7 16  7 11 11  7\n",
      " 11  8 11  7  7 16 10  7 16 10  7 16 10 14 18  7 10 18  9 15 11 13  9 14\n",
      " 16 16 13 14  8 13  7  7  7 18 12  8 10 12  9 11 10  4 14 16  7  9  9 14\n",
      "  5  8  6 10  7  8  6 12 10  5 11 11 16  9 17 10  7  5  7 10  5 12 10 14\n",
      "  6 14  6 13 13  8 10 10 13  6 10 10  9 12 16  9 12 12 11 15  8  8 11  8\n",
      "  7  8 13 14 17  9 18  9 16  8  9  7 10 10  7 11  9  7  8 12 12  6  8 14\n",
      "  6  6  7  9  6  6 16 12 13  9 16 12 10 12 13 11 11 14  9 11 14 13 13  7\n",
      " 12 10  6 13  7 18 12  6  3 13  6  7  6  8  8  7 14 11 15 10 17  8 13 10\n",
      "  9 17  9 12 10  6  9 15 11 15 10 12 10  9  9 10  8 11 12  8 10 12 18 13\n",
      " 15 15 12 15 12 18 14 14 10 10 14 16 12 11 15 17 15 14 17  8 15 12  9 14\n",
      " 13 13 15 13  8  9 11 11 13 11 11 12 16  9 14 11 10 14  9 12  7  8 10 16\n",
      " 14  7 16  9 11 10 16  9 11 13 16 10 13 11  8 13  8  8 13 10 12 12 10 18\n",
      " 13 13 11 16 12 10 13  7 11 14  7 14 13  6 19  8 15  8 15 10 15  7 11  6\n",
      "  6 10  6  7  7  6  9 14 10 11  8]\n",
      "G1\n",
      "[ 6  5  8 14 10 15 12  5 18 15  8 12 14 10 16 14 14 10  5 10 14 15 15 13\n",
      "  9  9 12 16 11 12 11 16 16 10 14  7 16 16 12 13 10 12 18  8 10  8 12 19\n",
      " 15  7 13 13 11 10 13  9 15 15 10 16 11  8 10  9 10 15 13  7  9 16 15 10\n",
      "  6 12 12  9 11 11  8  5 12 10  6 15 10  9  7 14 10  6  7 17  6 10 13 10\n",
      " 15  9 14  9  7 17 13  6 18 11  8 18 13 15 19 10 13 19  9 15 13 14  7 13\n",
      " 15 14 13 11  7 13 10  8  4 18  0  0 13 11  0  0  0  0 12 16  9  9 11 14\n",
      "  0 11  7 11  6  9  5 13 10  0 11  8 12  8 15 12  6  9  0 10  8 11 10 15\n",
      "  7 14  5 15 11  7 11  9 13  5  8 10  8 13 17  9 13 12 12 15  7  9 12  8\n",
      "  8  9 14 15 15  9 18  9 16 10  9  6 10  9  7 12  9  7  8 12 13  7 10 15\n",
      "  6  6  7 10  6  5 16 13 13  8 15 11  8 10 13 11  9 13  7  9 13 12 11  7\n",
      " 12 11  0 12  0 18 12  8  5 15  8 10  9  9 12  9 12 11 14  9 18  8 12  9\n",
      " 10 17  9 10  9  0  9 14 11 14 10 12  9  9  8 11  8  9 12  9  9 10 18 12\n",
      " 14 13 11 15 12 18 13 12  9  8 13 15 10 11 12 17 14 12 18  9 12 10  9 12\n",
      " 11 10 13 11  8 10 11 11 13  9 11 14 15 12 15 10  9 14  8 14  0  8  9 15\n",
      " 13  8 15 10 12 10 15  8 10 13 15 10 15 13  7 13  7  8 11  9 13 12 10 16\n",
      " 13 12 11 15 11 10 13  6 10 12  7 12 11  5 18  8 14  9 15 10 14  6 11  5\n",
      "  5  9  5  5  9  5  9 16  8 12  9]\n",
      "G2\n",
      "[1 1 1 0 1 0 1 1 0 0 1 0 0 1 0 0 0 1 1 1 0 0 0 0 1 1 1 0 1 1 0 0 0 0 0 1 0\n",
      " 0 1 0 1 0 0 1 1 1 1 0 0 1 0 0 1 1 0 1 0 0 1 0 1 1 1 1 1 0 0 1 1 0 0 1 1 0\n",
      " 1 1 1 1 1 1 0 1 1 0 1 1 1 0 1 1 1 0 1 1 0 1 0 1 0 1 1 0 0 1 0 1 1 0 0 0 0\n",
      " 1 0 0 1 0 0 0 1 0 0 0 0 0 1 0 1 1 1 0 1 1 0 1 1 1 1 1 0 0 1 1 1 0 1 1 1 1\n",
      " 1 1 1 0 1 1 0 1 0 1 0 0 1 1 1 1 1 0 1 0 1 0 1 0 1 1 1 1 1 1 1 1 1 0 0 1 0\n",
      " 1 1 0 1 1 0 1 1 1 0 0 0 1 0 1 0 1 1 1 1 1 1 0 1 1 1 0 0 1 1 0 1 1 1 1 1 1\n",
      " 0 0 0 1 0 0 1 0 0 1 1 0 1 1 0 0 1 1 0 0 1 0 1 0 0 1 1 0 1 1 1 1 0 1 0 1 0\n",
      " 1 0 1 0 1 1 0 1 1 1 1 1 0 1 0 1 0 1 1 1 1 1 1 0 1 1 1 0 0 0 0 1 0 0 0 0 1\n",
      " 1 1 0 0 1 1 0 0 0 0 0 1 0 1 1 0 1 1 0 1 1 1 1 1 0 1 1 0 0 1 0 1 1 0 1 0 1\n",
      " 1 1 0 0 1 0 1 1 1 0 1 1 0 0 1 0 0 1 0 1 1 1 1 0 1 1 0 0 0 1 0 0 1 0 1 1 1\n",
      " 1 0 1 1 0 1 0 1 0 1 0 1 1 1 1 1 1 1 1 1 1 0 1 1 1]\n",
      "G3\n"
     ]
    }
   ],
   "source": [
    "studentData['G3'].where(studentData['G3'] >= 12, 1, inplace=True, try_cast=True)\n",
    "studentData['G3'].where(studentData['G3'] < 12, 0, inplace=True)\n",
    "\n",
    "from sklearn.preprocessing  import LabelEncoder \n",
    "lb_make = LabelEncoder()\n",
    "\n",
    "X2=studentData.copy()\n",
    "codes = {\"school\": {\"GP\": 0, \"MS\": 1}, \"sex\": {\"F\": 0, \"M\": 1}, \"address\": {\"U\": 0, \"R\": 1}, \"famsize\": {\"GT3\": 0, \"LE3\": 1}, \"Pstatus\": {\"A\": 0, \"T\": 1}, \n",
    "        \"schoolsup\": {\"yes\": 0, \"no\": 1}, \"paid\": {\"yes\": 0, \"no\": 1}, \"activities\": {\"yes\": 0, \"no\": 1}, \"nursery\": {\"yes\": 0, \"no\": 1},\n",
    "        \"higher\" : {'yes': 1, 'no': 0}, \"internet\": {\"yes\": 1, \"no\": 0}, \"romantic\": {\"yes\": 1, \"no\": 0}, \"famsup\": {\"yes\": 1, \"no\": 0}}\n",
    "attributes = ['age', 'Fedu', 'Mjob', 'Fjob', 'reason', 'guardian']\n",
    "X2.replace(codes,inplace=True)\n",
    "for attribute in attributes:\n",
    "    \n",
    "    X2[attribute] = lb_make.fit_transform(X2[attribute])\n",
    "    \n",
    "for column in X2.columns:\n",
    "    print(X2[column].values)\n",
    "    print(column)\n",
    "\n",
    "#studentData\n",
    "        "
   ]
  },
  {
   "cell_type": "code",
   "execution_count": 200,
   "metadata": {},
   "outputs": [],
   "source": [
    "from skrebate import ReliefF\n",
    "from sklearn.pipeline import make_pipeline\n",
    "from sklearn.ensemble import RandomForestClassifier\n",
    "from sklearn.model_selection import cross_val_score\n",
    "\n",
    "X2 = X2.astype(float)\n",
    "features, labels = X2.drop('G3', axis=1).values, X2['G3'].values\n",
    "\n",
    "\n"
   ]
  },
  {
   "cell_type": "code",
   "execution_count": 201,
   "metadata": {},
   "outputs": [
    {
     "name": "stdout",
     "output_type": "stream",
     "text": [
      "school 0.021097046413502112\n",
      "sex 0.0894514767932489\n",
      "age 0.05569620253164556\n",
      "address 0.03459915611814343\n",
      "famsize 0.07257383966244726\n",
      "Pstatus 0.02700421940928269\n",
      "Medu 0.080168776371308\n",
      "Fedu 0.024472573839662438\n",
      "Mjob 0.02700421940928269\n",
      "Fjob -0.014345991561181427\n",
      "reason 0.059915611814346015\n",
      "guardian -0.0160337552742616\n",
      "traveltime 0.02531645569620251\n",
      "studytime 0.021940928270042178\n",
      "failures -0.005063291139240499\n",
      "schoolsup 0.008438818565400841\n",
      "famsup 0.07932489451476789\n",
      "paid 0.07172995780590709\n",
      "activities 0.047257383966244716\n",
      "nursery 0.15274261603375514\n",
      "higher 0.0008438818565400875\n",
      "internet 0.013502109704641352\n",
      "romantic 0.005063291139240514\n",
      "famrel 0.08776371308016871\n",
      "freetime 0.015189873417721515\n",
      "goout 0.023628691983122348\n",
      "Dalc 0.05654008438818566\n",
      "Walc 0.080168776371308\n",
      "health 0.02025316455696205\n",
      "absences 0.04633473980309424\n",
      "G1 0.1401898734177216\n",
      "G2 0.32827004219409284\n"
     ]
    }
   ],
   "source": [
    "fs = ReliefF(n_neighbors=3)\n",
    "fs.fit(X2.drop('G3', axis=1).values, X2['G3'].values)\n",
    "for feature_name, feature_score in zip(X2.columns,fs.feature_importances_):\n",
    "    print (feature_name, feature_score)"
   ]
  },
  {
   "cell_type": "code",
   "execution_count": 226,
   "metadata": {},
   "outputs": [
    {
     "data": {
      "text/html": [
       "<div>\n",
       "<style scoped>\n",
       "    .dataframe tbody tr th:only-of-type {\n",
       "        vertical-align: middle;\n",
       "    }\n",
       "\n",
       "    .dataframe tbody tr th {\n",
       "        vertical-align: top;\n",
       "    }\n",
       "\n",
       "    .dataframe thead th {\n",
       "        text-align: right;\n",
       "    }\n",
       "</style>\n",
       "<table border=\"1\" class=\"dataframe\">\n",
       "  <thead>\n",
       "    <tr style=\"text-align: right;\">\n",
       "      <th></th>\n",
       "      <th>G2</th>\n",
       "      <th>Walc</th>\n",
       "      <th>famrel</th>\n",
       "      <th>famsup</th>\n",
       "      <th>Dalc</th>\n",
       "      <th>G1</th>\n",
       "      <th>nursery</th>\n",
       "    </tr>\n",
       "  </thead>\n",
       "  <tbody>\n",
       "    <tr>\n",
       "      <th>0</th>\n",
       "      <td>6.0</td>\n",
       "      <td>1.0</td>\n",
       "      <td>4.0</td>\n",
       "      <td>0.0</td>\n",
       "      <td>1.0</td>\n",
       "      <td>5.0</td>\n",
       "      <td>0.0</td>\n",
       "    </tr>\n",
       "    <tr>\n",
       "      <th>1</th>\n",
       "      <td>5.0</td>\n",
       "      <td>1.0</td>\n",
       "      <td>5.0</td>\n",
       "      <td>1.0</td>\n",
       "      <td>1.0</td>\n",
       "      <td>5.0</td>\n",
       "      <td>1.0</td>\n",
       "    </tr>\n",
       "    <tr>\n",
       "      <th>2</th>\n",
       "      <td>8.0</td>\n",
       "      <td>3.0</td>\n",
       "      <td>4.0</td>\n",
       "      <td>0.0</td>\n",
       "      <td>2.0</td>\n",
       "      <td>7.0</td>\n",
       "      <td>0.0</td>\n",
       "    </tr>\n",
       "    <tr>\n",
       "      <th>3</th>\n",
       "      <td>14.0</td>\n",
       "      <td>1.0</td>\n",
       "      <td>3.0</td>\n",
       "      <td>1.0</td>\n",
       "      <td>1.0</td>\n",
       "      <td>15.0</td>\n",
       "      <td>0.0</td>\n",
       "    </tr>\n",
       "    <tr>\n",
       "      <th>4</th>\n",
       "      <td>10.0</td>\n",
       "      <td>2.0</td>\n",
       "      <td>4.0</td>\n",
       "      <td>1.0</td>\n",
       "      <td>1.0</td>\n",
       "      <td>6.0</td>\n",
       "      <td>0.0</td>\n",
       "    </tr>\n",
       "  </tbody>\n",
       "</table>\n",
       "</div>"
      ],
      "text/plain": [
       "     G2  Walc  famrel  famsup  Dalc    G1  nursery\n",
       "0   6.0   1.0     4.0     0.0   1.0   5.0      0.0\n",
       "1   5.0   1.0     5.0     1.0   1.0   5.0      1.0\n",
       "2   8.0   3.0     4.0     0.0   2.0   7.0      0.0\n",
       "3  14.0   1.0     3.0     1.0   1.0  15.0      0.0\n",
       "4  10.0   2.0     4.0     1.0   1.0   6.0      0.0"
      ]
     },
     "execution_count": 226,
     "metadata": {},
     "output_type": "execute_result"
    }
   ],
   "source": [
    "from sklearn.metrics import accuracy_score\n",
    "from sklearn.discriminant_analysis import LinearDiscriminantAnalysis\n",
    "from sklearn.naive_bayes import GaussianNB\n",
    "from sklearn.feature_selection import RFE\n",
    "from mlxtend.feature_selection import SequentialFeatureSelector as SFS\n",
    "\n",
    "\n",
    "\n",
    "sub = pd.concat([X2['G2'], X2['Walc'], X2['famrel'], X2['famsup'], X2['Dalc'], X2['G1'], X2['nursery']], axis=1)\n",
    "\n",
    "sub.head()\n"
   ]
  },
  {
   "cell_type": "code",
   "execution_count": 227,
   "metadata": {},
   "outputs": [
    {
     "data": {
      "text/plain": [
       "array([0.85      , 0.825     , 0.8       , 0.825     , 0.875     ,\n",
       "       0.82051282, 0.71794872, 0.84615385, 0.84615385, 0.79487179])"
      ]
     },
     "execution_count": 227,
     "metadata": {},
     "output_type": "execute_result"
    }
   ],
   "source": [
    "from sklearn.model_selection import train_test_split\n",
    "from sklearn.model_selection import cross_val_score\n",
    "from sklearn.model_selection import ShuffleSplit\n",
    "from sklearn.preprocessing import Binarizer\n",
    "from sklearn.naive_bayes import MultinomialNB\n",
    "\n",
    "X1= sub.values\n",
    "clf = MultinomialNB()\n",
    "scores = cross_val_score(clf, X1, labels, cv=10)\n",
    "scores"
   ]
  },
  {
   "cell_type": "code",
   "execution_count": 228,
   "metadata": {},
   "outputs": [
    {
     "name": "stdout",
     "output_type": "stream",
     "text": [
      "Precision: 0.820 (+/- 0.041)\n"
     ]
    }
   ],
   "source": [
    "print(\"Precision: %0.3f (+/- %0.3f)\" % (scores.mean(), scores.std()))"
   ]
  },
  {
   "cell_type": "code",
   "execution_count": 229,
   "metadata": {},
   "outputs": [
    {
     "data": {
      "text/plain": [
       "0.9189873417721519"
      ]
     },
     "execution_count": 229,
     "metadata": {},
     "output_type": "execute_result"
    }
   ],
   "source": [
    "from scipy import linalg\n",
    "import matplotlib as mpl\n",
    "from matplotlib import colors\n",
    "from sklearn.preprocessing import LabelEncoder\n",
    "from sklearn.metrics import confusion_matrix\n",
    "\n",
    "\n",
    "#Haciendo el analisis discriminante y calculando el porcentaje de precision\n",
    "ldadis = LinearDiscriminantAnalysis().fit(X1,labels)\n",
    "#Tasa de precision\n",
    "ldadis.score(X1, labels)"
   ]
  },
  {
   "cell_type": "code",
   "execution_count": 230,
   "metadata": {},
   "outputs": [
    {
     "data": {
      "text/plain": [
       "array([[146,  16],\n",
       "       [ 16, 217]], dtype=int64)"
      ]
     },
     "execution_count": 230,
     "metadata": {},
     "output_type": "execute_result"
    }
   ],
   "source": [
    "pred=ldadis.predict(X1)\n",
    "confusion_matrix(labels,pred)"
   ]
  },
  {
   "cell_type": "code",
   "execution_count": 231,
   "metadata": {},
   "outputs": [
    {
     "data": {
      "text/plain": [
       "array([0.875     , 0.95      , 0.975     , 0.925     , 0.85      ,\n",
       "       0.92307692, 0.92307692, 0.82051282, 0.94871795, 0.92307692])"
      ]
     },
     "execution_count": 231,
     "metadata": {},
     "output_type": "execute_result"
    }
   ],
   "source": [
    "scores = cross_val_score(ldadis, X1, labels, cv=10)\n",
    "scores"
   ]
  },
  {
   "cell_type": "code",
   "execution_count": 232,
   "metadata": {},
   "outputs": [
    {
     "name": "stdout",
     "output_type": "stream",
     "text": [
      "Accuracy using LDA: 0.91 (+/- 0.09)\n"
     ]
    }
   ],
   "source": [
    "print(\"Accuracy using LDA: %0.2f (+/- %0.2f)\" % (scores.mean(), scores.std() * 2))"
   ]
  },
  {
   "cell_type": "code",
   "execution_count": 236,
   "metadata": {},
   "outputs": [],
   "source": [
    "clf = GaussianNB()\n",
    "sfs1 = SFS(clf, k_features=3, forward=True, floating=False, verbose=0,scoring='accuracy',cv=0)\n",
    "sfs1 = sfs1.fit(X1, labels)"
   ]
  },
  {
   "cell_type": "code",
   "execution_count": 237,
   "metadata": {},
   "outputs": [
    {
     "data": {
      "text/plain": [
       "{1: {'feature_idx': (0,),\n",
       "  'cv_scores': array([0.93924051]),\n",
       "  'avg_score': 0.9392405063291139,\n",
       "  'feature_names': ('0',)},\n",
       " 2: {'feature_idx': (0, 2),\n",
       "  'cv_scores': array([0.93924051]),\n",
       "  'avg_score': 0.9392405063291139,\n",
       "  'feature_names': ('0', '2')},\n",
       " 3: {'feature_idx': (0, 2, 4),\n",
       "  'cv_scores': array([0.94177215]),\n",
       "  'avg_score': 0.9417721518987342,\n",
       "  'feature_names': ('0', '2', '4')}}"
      ]
     },
     "execution_count": 237,
     "metadata": {},
     "output_type": "execute_result"
    }
   ],
   "source": [
    "sfs1.subsets_"
   ]
  },
  {
   "cell_type": "code",
   "execution_count": 239,
   "metadata": {},
   "outputs": [
    {
     "data": {
      "text/plain": [
       "array([0.875     , 0.95      , 1.        , 0.975     , 0.85      ,\n",
       "       0.8974359 , 0.94871795, 0.97435897, 0.92307692, 0.97435897])"
      ]
     },
     "execution_count": 239,
     "metadata": {},
     "output_type": "execute_result"
    }
   ],
   "source": [
    "sub1 = pd.concat([sub['G2'], sub['famrel'], sub['Dalc']], axis=1)\n",
    "                 \n",
    "X3 = sub1.values\n",
    "                 \n",
    "scores = cross_val_score(clf, X3, labels, cv=10)\n",
    "scores"
   ]
  },
  {
   "cell_type": "code",
   "execution_count": 240,
   "metadata": {},
   "outputs": [
    {
     "name": "stdout",
     "output_type": "stream",
     "text": [
      "Precision: 0.937 (+/- 0.047)\n"
     ]
    }
   ],
   "source": [
    "print(\"Precision: %0.3f (+/- %0.3f)\" % (scores.mean(), scores.std()))"
   ]
  },
  {
   "cell_type": "code",
   "execution_count": 241,
   "metadata": {},
   "outputs": [
    {
     "data": {
      "text/plain": [
       "0.9392405063291139"
      ]
     },
     "execution_count": 241,
     "metadata": {},
     "output_type": "execute_result"
    }
   ],
   "source": [
    "ldadis = LinearDiscriminantAnalysis().fit(X3,labels)\n",
    "#Tasa de precision\n",
    "ldadis.score(X3, labels)"
   ]
  },
  {
   "cell_type": "code",
   "execution_count": 242,
   "metadata": {},
   "outputs": [
    {
     "name": "stdout",
     "output_type": "stream",
     "text": [
      "Accuracy using LDA: 0.94 (+/- 0.09)\n"
     ]
    }
   ],
   "source": [
    "print(\"Accuracy using LDA: %0.2f (+/- %0.2f)\" % (scores.mean(), scores.std() * 2))"
   ]
  },
  {
   "cell_type": "code",
   "execution_count": 260,
   "metadata": {},
   "outputs": [
    {
     "data": {
      "text/plain": [
       "array([[-7.56166820e-01,  3.11222788e-02, -7.20234065e-05,\n",
       "         7.33127910e-03,  1.62837850e-02, -6.53366086e-01,\n",
       "         6.08169576e-03],\n",
       "       [-3.16078207e-01, -7.68140413e-01,  1.23816660e-01,\n",
       "         1.96384215e-02, -4.38656414e-01,  3.18261271e-01,\n",
       "        -2.50789490e-02],\n",
       "       [-5.70789564e-01,  3.88518710e-01,  1.64214774e-02,\n",
       "        -3.72032531e-02,  2.29746024e-01,  6.84546415e-01,\n",
       "         1.45502237e-02]])"
      ]
     },
     "execution_count": 260,
     "metadata": {},
     "output_type": "execute_result"
    }
   ],
   "source": [
    "from sklearn.decomposition import PCA\n",
    "from sklearn.preprocessing import StandardScaler\n",
    "from mpl_toolkits.mplot3d import Axes3D\n",
    "\n",
    "pca=PCA(n_components=3)\n",
    "principalComponents = pca.fit_transform(X1)\n",
    "pca.components_"
   ]
  },
  {
   "cell_type": "code",
   "execution_count": 262,
   "metadata": {
    "scrolled": true
   },
   "outputs": [
    {
     "data": {
      "text/html": [
       "<div>\n",
       "<style scoped>\n",
       "    .dataframe tbody tr th:only-of-type {\n",
       "        vertical-align: middle;\n",
       "    }\n",
       "\n",
       "    .dataframe tbody tr th {\n",
       "        vertical-align: top;\n",
       "    }\n",
       "\n",
       "    .dataframe thead th {\n",
       "        text-align: right;\n",
       "    }\n",
       "</style>\n",
       "<table border=\"1\" class=\"dataframe\">\n",
       "  <thead>\n",
       "    <tr style=\"text-align: right;\">\n",
       "      <th></th>\n",
       "      <th>PC1</th>\n",
       "      <th>PC2</th>\n",
       "      <th>PC3</th>\n",
       "    </tr>\n",
       "  </thead>\n",
       "  <tbody>\n",
       "    <tr>\n",
       "      <th>0</th>\n",
       "      <td>7.371404</td>\n",
       "      <td>0.812190</td>\n",
       "      <td>-1.945650</td>\n",
       "    </tr>\n",
       "    <tr>\n",
       "      <th>1</th>\n",
       "      <td>8.140911</td>\n",
       "      <td>1.246644</td>\n",
       "      <td>-1.381092</td>\n",
       "    </tr>\n",
       "    <tr>\n",
       "      <th>2</th>\n",
       "      <td>4.630866</td>\n",
       "      <td>-1.158381</td>\n",
       "      <td>-0.711352</td>\n",
       "    </tr>\n",
       "    <tr>\n",
       "      <th>3</th>\n",
       "      <td>-5.204189</td>\n",
       "      <td>1.361999</td>\n",
       "      <td>0.279873</td>\n",
       "    </tr>\n",
       "    <tr>\n",
       "      <th>4</th>\n",
       "      <td>3.731824</td>\n",
       "      <td>-0.882364</td>\n",
       "      <td>-3.192946</td>\n",
       "    </tr>\n",
       "  </tbody>\n",
       "</table>\n",
       "</div>"
      ],
      "text/plain": [
       "        PC1       PC2       PC3\n",
       "0  7.371404  0.812190 -1.945650\n",
       "1  8.140911  1.246644 -1.381092\n",
       "2  4.630866 -1.158381 -0.711352\n",
       "3 -5.204189  1.361999  0.279873\n",
       "4  3.731824 -0.882364 -3.192946"
      ]
     },
     "execution_count": 262,
     "metadata": {},
     "output_type": "execute_result"
    }
   ],
   "source": [
    "pcaDF=pd.DataFrame(data = principalComponents, columns = ['PC1', 'PC2', 'PC3'])\n",
    "pcaDF.head()"
   ]
  },
  {
   "cell_type": "code",
   "execution_count": 270,
   "metadata": {},
   "outputs": [
    {
     "name": "stdout",
     "output_type": "stream",
     "text": [
      "[23.36484515  2.16127294  1.75364669]\n",
      "[0.81062067 0.07498327 0.06084107]\n",
      "[0.81062067 0.88560394 0.94644501]\n"
     ]
    }
   ],
   "source": [
    "print(pca.explained_variance_)\n",
    "print(pca.explained_variance_ratio_)\n",
    "print(pca.explained_variance_ratio_.cumsum())"
   ]
  },
  {
   "cell_type": "code",
   "execution_count": 285,
   "metadata": {},
   "outputs": [],
   "source": [
    "ldadis = LinearDiscriminantAnalysis().fit(principalComponents,labels)\n",
    "#Tasa de precision\n",
    "ypred=ldadis.predict(principalComponents)"
   ]
  },
  {
   "cell_type": "code",
   "execution_count": 286,
   "metadata": {},
   "outputs": [
    {
     "data": {
      "text/plain": [
       "0.9139240506329114"
      ]
     },
     "execution_count": 286,
     "metadata": {},
     "output_type": "execute_result"
    }
   ],
   "source": [
    "ldadis.score(principalComponents, labels)\n"
   ]
  },
  {
   "cell_type": "code",
   "execution_count": 287,
   "metadata": {
    "scrolled": true
   },
   "outputs": [
    {
     "data": {
      "text/plain": [
       "array([0.875     , 0.95      , 0.975     , 0.925     , 0.85      ,\n",
       "       0.92307692, 0.92307692, 0.82051282, 0.94871795, 0.92307692])"
      ]
     },
     "execution_count": 287,
     "metadata": {},
     "output_type": "execute_result"
    }
   ],
   "source": [
    "scores = cross_val_score(ldadis, X1, labels, cv=10)\n",
    "scores"
   ]
  },
  {
   "cell_type": "code",
   "execution_count": 288,
   "metadata": {},
   "outputs": [
    {
     "name": "stdout",
     "output_type": "stream",
     "text": [
      "Accuracy using LDA: 0.91 (+/- 0.09)\n"
     ]
    }
   ],
   "source": [
    "print(\"Accuracy using LDA: %0.2f (+/- %0.2f)\" % (scores.mean(), scores.std() * 2))"
   ]
  },
  {
   "cell_type": "code",
   "execution_count": 283,
   "metadata": {},
   "outputs": [
    {
     "data": {
      "text/plain": [
       "array([0.85      , 0.925     , 0.925     , 0.925     , 0.825     ,\n",
       "       0.8974359 , 0.94871795, 0.8974359 , 0.92307692, 0.92307692])"
      ]
     },
     "execution_count": 283,
     "metadata": {},
     "output_type": "execute_result"
    }
   ],
   "source": [
    "clf = GaussianNB()\n",
    "scores = cross_val_score(clf, principalComponents, labels, cv=10)\n",
    "scores"
   ]
  },
  {
   "cell_type": "code",
   "execution_count": 284,
   "metadata": {},
   "outputs": [
    {
     "name": "stdout",
     "output_type": "stream",
     "text": [
      "Precision: 0.904 (+/- 0.036)\n"
     ]
    }
   ],
   "source": [
    "print(\"Precision: %0.3f (+/- %0.3f)\" % (scores.mean(), scores.std()))"
   ]
  },
  {
   "cell_type": "code",
   "execution_count": 290,
   "metadata": {},
   "outputs": [
    {
     "name": "stdout",
     "output_type": "stream",
     "text": [
      "Results: El LDA se mantiene mayormente constante desde A a C, mientras Naive Bayes es más óptimo con PCA \n"
     ]
    }
   ],
   "source": [
    "print(\"Results: El LDA se mantiene mayormente constante desde A a C, mientras Naive Bayes es más óptimo con PCA \")"
   ]
  },
  {
   "cell_type": "code",
   "execution_count": null,
   "metadata": {},
   "outputs": [],
   "source": []
  }
 ],
 "metadata": {
  "kernelspec": {
   "display_name": "Python 3",
   "language": "python",
   "name": "python3"
  },
  "language_info": {
   "codemirror_mode": {
    "name": "ipython",
    "version": 3
   },
   "file_extension": ".py",
   "mimetype": "text/x-python",
   "name": "python",
   "nbconvert_exporter": "python",
   "pygments_lexer": "ipython3",
   "version": "3.6.6"
  }
 },
 "nbformat": 4,
 "nbformat_minor": 1
}
